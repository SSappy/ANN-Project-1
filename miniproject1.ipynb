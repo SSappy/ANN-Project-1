{
 "cells": [
  {
   "cell_type": "markdown",
   "metadata": {},
   "source": [
    "# Miniproject 1: Image Classification\n",
    "\n",
    "## Introduction\n",
    "\n",
    "### Description\n",
    "\n",
    "One of the deepest traditions in learning about deep learning is to first [tackle the exciting problem of MNIST classification](http://deeplearning.net/tutorial/logreg.html). [The MNIST database](https://en.wikipedia.org/wiki/MNIST_database) (Modified National Institute of Standards and Technology database) is a large database of handwritten digits that was [recently extended](https://arxiv.org/abs/1702.05373). We break with this tradition (just a little bit) and tackle first the related problem of classifying cropped, downsampled and grayscaled images of house numbers in the [The Street View House Numbers (SVHN) Dataset](http://ufldl.stanford.edu/housenumbers/).\n",
    "\n",
    "\n",
    "### Prerequisites\n",
    "\n",
    "- You should have a running installation of [tensorflow](https://www.tensorflow.org/install/) and [keras](https://keras.io/).\n",
    "- You should know the concepts \"multilayer perceptron\", \"stochastic gradient descent with minibatches\", \"training and validation data\", \"overfitting\" and \"early stopping\".\n",
    "\n",
    "### What you will learn\n",
    "\n",
    "- You will learn how to define feedforward neural networks in keras and fit them to data.\n",
    "- You will be guided through a prototyping procedure for the application of deep learning to a specific domain.\n",
    "- You will get in contact with concepts discussed later in the lecture, like \"regularization\", \"batch normalization\" and \"convolutional networks\".\n",
    "- You will gain some experience on the influence of network architecture, optimizer and regularization choices on the goodness of fit.\n",
    "- You will learn to be more patient :) Some fits may take your computer quite a bit of time; run them over night.\n",
    "\n",
    "### Evaluation criteria\n",
    "\n",
    "The evaluation is (mostly) based on the figures you submit and your answer sentences. \n",
    "We will only do random tests of your code and not rerun the full notebook.\n",
    "\n",
    "### Your names\n",
    "\n",
    "Before you start, please enter your full name(s) in the field below; they are used to load the data. The variable student2 may remain empty, if you work alone."
   ]
  },
  {
   "cell_type": "code",
   "execution_count": 1,
   "metadata": {
    "ExecuteTime": {
     "end_time": "2018-03-09T09:08:24.514461Z",
     "start_time": "2018-03-09T09:08:24.506410Z"
    }
   },
   "outputs": [],
   "source": [
    "student1 = \"Quentin Rebjock\"\n",
    "student2 = \"Augustin Prado\""
   ]
  },
  {
   "cell_type": "markdown",
   "metadata": {},
   "source": [
    "**Seed value fixed because the hash function depends on the operating system :**"
   ]
  },
  {
   "cell_type": "code",
   "execution_count": 2,
   "metadata": {},
   "outputs": [],
   "source": [
    "hash_value = 1993331184"
   ]
  },
  {
   "cell_type": "markdown",
   "metadata": {},
   "source": [
    "## Some helper functions\n",
    "\n",
    "For your convenience we provide here some functions to preprocess the data and plot the results later. Simply run the following cells with `Shift-Enter`.\n",
    "\n",
    "### Dependencies and constants"
   ]
  },
  {
   "cell_type": "code",
   "execution_count": 3,
   "metadata": {
    "ExecuteTime": {
     "end_time": "2018-03-09T09:09:16.113721Z",
     "start_time": "2018-03-09T09:09:16.100520Z"
    }
   },
   "outputs": [
    {
     "name": "stderr",
     "output_type": "stream",
     "text": [
      "/home/quentin/miniconda3/lib/python3.6/site-packages/h5py/__init__.py:36: FutureWarning: Conversion of the second argument of issubdtype from `float` to `np.floating` is deprecated. In future, it will be treated as `np.float64 == np.dtype(float).type`.\n",
      "  from ._conv import register_converters as _register_converters\n",
      "Using TensorFlow backend.\n"
     ]
    }
   ],
   "source": [
    "import numpy as np\n",
    "import time\n",
    "import matplotlib.pyplot as plt\n",
    "import scipy.io\n",
    "%matplotlib inline  \n",
    "\n",
    "import keras\n",
    "from keras.models import Sequential\n",
    "from keras.layers import Dense, Conv2D, MaxPooling2D, Dropout, Flatten\n",
    "from keras.optimizers import SGD, Adam\n",
    "\n",
    "# you may experiment with different subsets, \n",
    "# but make sure in the submission \n",
    "# it is generated with the correct random seed for all exercises.\n",
    "#np.random.seed(hash(student1 + student2) % 2**32)\n",
    "np.random.seed(hash_value)\n",
    "subset_of_classes = np.random.choice(range(10), 5, replace = False)"
   ]
  },
  {
   "cell_type": "markdown",
   "metadata": {},
   "source": [
    "Subset of class used:"
   ]
  },
  {
   "cell_type": "code",
   "execution_count": 4,
   "metadata": {},
   "outputs": [
    {
     "data": {
      "text/plain": [
       "array([1, 0, 9, 3, 4])"
      ]
     },
     "execution_count": 4,
     "metadata": {},
     "output_type": "execute_result"
    }
   ],
   "source": [
    "# 1,0,9,3,4\n",
    "subset_of_classes"
   ]
  },
  {
   "cell_type": "markdown",
   "metadata": {},
   "source": [
    "### Plotting"
   ]
  },
  {
   "cell_type": "code",
   "execution_count": 5,
   "metadata": {},
   "outputs": [],
   "source": [
    "from pylab import rcParams\n",
    "rcParams['figure.figsize'] = 10, 6\n",
    "def plot_some_samples(x, y = [], yhat = [], select_from = [], \n",
    "                      ncols = 6, nrows = 4, xdim = 16, ydim = 16,\n",
    "                      label_mapping = range(10)):\n",
    "    \"\"\"plot some input vectors as grayscale images (optionally together with their assigned or predicted labels).\n",
    "    \n",
    "    x is an NxD - dimensional array, where D is the length of an input vector and N is the number of samples.\n",
    "    Out of the N samples, ncols x nrows indices are randomly selected from the list select_from (if it is empty, select_from becomes range(N)).\n",
    "    \n",
    "    Keyword arguments:\n",
    "    y             -- corresponding labels to plot in green below each image.\n",
    "    yhat          -- corresponding predicted labels to plot in red below each image.\n",
    "    select_from   -- list of indices from which to select the images.\n",
    "    ncols, nrows  -- number of columns and rows to plot.\n",
    "    xdim, ydim    -- number of pixels of the images in x- and y-direction.\n",
    "    label_mapping -- map labels to digits.\n",
    "    \n",
    "    \"\"\"\n",
    "    fig, ax = plt.subplots(nrows, ncols)\n",
    "    if len(select_from) == 0:\n",
    "        select_from = range(x.shape[0])\n",
    "    indices = np.random.choice(select_from, size = min(ncols * nrows, len(select_from)), replace = False)\n",
    "    for i, ind in enumerate(indices):\n",
    "        thisax = ax[i//ncols,i%ncols]\n",
    "        thisax.matshow(x[ind].reshape(xdim, ydim), cmap='gray')\n",
    "        thisax.set_axis_off()\n",
    "        if len(y) != 0:\n",
    "            j = y[ind] if type(y[ind]) != np.ndarray else y[ind].argmax()\n",
    "            thisax.text(0, 0, (label_mapping[j]+1)%10, color='green', \n",
    "                                                       verticalalignment='top',\n",
    "                                                       transform=thisax.transAxes)\n",
    "        if len(yhat) != 0:\n",
    "            k = yhat[ind] if type(yhat[ind]) != np.ndarray else yhat[ind].argmax()\n",
    "            thisax.text(1, 0, (label_mapping[k]+1)%10, color='red',\n",
    "                                             verticalalignment='top',\n",
    "                                             horizontalalignment='right',\n",
    "                                             transform=thisax.transAxes)\n",
    "    return fig\n",
    "\n",
    "def prepare_standardplot(title, xlabel):\n",
    "    fig, (ax1, ax2) = plt.subplots(1, 2)\n",
    "    fig.suptitle(title)\n",
    "    ax1.set_ylabel('categorical cross entropy')\n",
    "    ax1.set_xlabel(xlabel)\n",
    "    ax1.set_yscale('log')\n",
    "    ax2.set_ylabel('accuracy [% correct]')\n",
    "    ax2.set_xlabel(xlabel)\n",
    "    return fig, ax1, ax2\n",
    "\n",
    "def finalize_standardplot(fig, ax1, ax2):\n",
    "    ax1handles, ax1labels = ax1.get_legend_handles_labels()\n",
    "    if len(ax1labels) > 0:\n",
    "        ax1.legend(ax1handles, ax1labels)\n",
    "    ax2handles, ax2labels = ax2.get_legend_handles_labels()\n",
    "    if len(ax2labels) > 0:\n",
    "        ax2.legend(ax2handles, ax2labels)\n",
    "    fig.tight_layout()\n",
    "    plt.subplots_adjust(top=0.9)\n",
    "\n",
    "def plot_history(history, title):\n",
    "    fig, ax1, ax2 = prepare_standardplot(title, 'epoch')\n",
    "    ax1.plot(history.history['loss'], label = \"training\")\n",
    "    ax1.plot(history.history['val_loss'], label = \"validation\")\n",
    "    ax2.plot(history.history['acc'], label = \"training\")\n",
    "    ax2.plot(history.history['val_acc'], label = \"validation\")\n",
    "    finalize_standardplot(fig, ax1, ax2)\n",
    "    return fig"
   ]
  },
  {
   "cell_type": "markdown",
   "metadata": {},
   "source": [
    "### Loading and preprocessing the data\n",
    "\n",
    "The data consists of RGB color images with 32x32 pixels, loaded into an array of dimension 32x32x3x(number of images). We convert them to grayscale (using [this method](https://en.wikipedia.org/wiki/SRGB#The_reverse_transformation)) and we downsample them to images of 16x16 pixels by averaging over patches of 2x2 pixels.\n",
    "\n",
    "With these preprocessing steps we obviously remove some information that could be helpful in classifying the images. But, since the processed data is much lower dimensional, the fitting procedures converge faster. This is an advantage in situations like here (or generally when prototyping), were we want to try many different things without having to wait too long for computations to finish. After having gained some experience, one may want to go back to work on the 32x32 RGB images.\n"
   ]
  },
  {
   "cell_type": "code",
   "execution_count": 6,
   "metadata": {},
   "outputs": [],
   "source": [
    "# convert RGB images x to grayscale using the formula for Y_linear in https://en.wikipedia.org/wiki/Grayscale#Colorimetric_(perceptual_luminance-preserving)_conversion_to_grayscale\n",
    "def grayscale(x):\n",
    "    x = x.astype('float32')/255\n",
    "    x = np.piecewise(x, [x <= 0.04045, x > 0.04045], \n",
    "                        [lambda x: x/12.92, lambda x: ((x + .055)/1.055)**2.4])\n",
    "    return .2126 * x[:,:,0,:] + .7152 * x[:,:,1,:]  + .07152 * x[:,:,2,:]\n",
    "\n",
    "def downsample(x):\n",
    "    return sum([x[i::2,j::2,:] for i in range(2) for j in range(2)])/4\n",
    "\n",
    "def preprocess(data):\n",
    "    gray = grayscale(data['X'])\n",
    "    downsampled = downsample(gray)\n",
    "    return (downsampled.reshape(16*16, gray.shape[2]).transpose(),\n",
    "            data['y'].flatten() - 1)\n",
    "\n",
    "\n",
    "data_train = scipy.io.loadmat('housenumbers/train_32x32.mat')\n",
    "data_test = scipy.io.loadmat('housenumbers/test_32x32.mat')\n",
    "\n",
    "x_train_all, y_train_all = preprocess(data_train)\n",
    "x_test_all, y_test_all = preprocess(data_test)"
   ]
  },
  {
   "cell_type": "markdown",
   "metadata": {},
   "source": [
    "### Selecting a subset of classes\n",
    "\n",
    "We furter reduce the size of the dataset (and thus reduce computation time) by selecting only the 5 (out of 10 digits) in subset_of_classes."
   ]
  },
  {
   "cell_type": "code",
   "execution_count": 7,
   "metadata": {},
   "outputs": [],
   "source": [
    "def extract_classes(x, y, classes):\n",
    "    indices = []\n",
    "    labels = []\n",
    "    count = 0\n",
    "    for c in classes:\n",
    "        tmp = np.where(y == c)[0]\n",
    "        indices.extend(tmp)\n",
    "        labels.extend(np.ones(len(tmp), dtype='uint8') * count)\n",
    "        count += 1\n",
    "    return x[indices], labels\n",
    "\n",
    "x_train, y_train = extract_classes(x_train_all, y_train_all, subset_of_classes)\n",
    "x_test, y_test = extract_classes(x_test_all, y_test_all, subset_of_classes)"
   ]
  },
  {
   "cell_type": "markdown",
   "metadata": {},
   "source": [
    "Let us plot some examples now. The green digit at the bottom left of each image indicates the corresponding label in y_test.\n",
    "For further usage of the function plot_some_samples, please have a look at its definition in the plotting section."
   ]
  },
  {
   "cell_type": "code",
   "execution_count": 8,
   "metadata": {},
   "outputs": [
    {
     "data": {
      "image/png": "[encoded data removed]",
      "text/plain": [
       "<Figure size 720x432 with 24 Axes>"
      ]
     },
     "metadata": {},
     "output_type": "display_data"
    }
   ],
   "source": [
    "plot_some_samples(x_test, y_test, label_mapping = subset_of_classes);"
   ]
  },
  {
   "cell_type": "markdown",
   "metadata": {},
   "source": [
    "To prepare for fitting we transform the labels to one hot coding, i.e. for 5 classes, label 2 becomes the vector [0, 0, 1, 0, 0] (python uses 0-indexing)."
   ]
  },
  {
   "cell_type": "code",
   "execution_count": 9,
   "metadata": {},
   "outputs": [],
   "source": [
    "y_train = keras.utils.to_categorical(y_train)\n",
    "y_test = keras.utils.to_categorical(y_test)"
   ]
  },
  {
   "cell_type": "code",
   "execution_count": 10,
   "metadata": {},
   "outputs": [],
   "source": [
    "\"\"\"\n",
    "Helper functions to save and load models and other\n",
    "variables so they don't have to be calculated each time.\n",
    "\"\"\"\n",
    "\n",
    "def save_model(model, name):\n",
    "    \"\"\"\n",
    "    Saves the parameters of the model.\n",
    "    \"\"\"\n",
    "    model.save_weights('data/models/' + name + '.h5')\n",
    "    \n",
    "def load_model(model, name):\n",
    "    \"\"\"\n",
    "    Loads the parameters for the model.\n",
    "    \"\"\"\n",
    "    model.load_weights('data/models/' + name + '.h5')\n",
    "    \n",
    "import pickle\n",
    "\n",
    "def save_obj(obj, name):\n",
    "    with open('data/pickle/' + name + '.pkl', 'wb') as f:\n",
    "        pickle.dump(obj, f, pickle.HIGHEST_PROTOCOL)\n",
    "\n",
    "def load_obj(name):\n",
    "    with open('data/pickle/' + name + '.pkl', 'rb') as f:\n",
    "        return pickle.load(f)"
   ]
  },
  {
   "cell_type": "markdown",
   "metadata": {},
   "source": [
    "## Exercise 1: No hidden layer\n",
    "\n",
    "### Description\n",
    "\n",
    "Define and fit a model without a hidden layer. \n",
    "\n",
    "1. Use the softmax activation for the output layer.\n",
    "2. Use the categorical_crossentropy loss.\n",
    "3. Add the accuracy metric to the metrics.\n",
    "4. Choose stochastic gradient descent for the optimizer.\n",
    "5. Choose a minibatch size of 128.\n",
    "6. Fit for as many epochs as needed to see no further decrease in the validation loss.\n",
    "7. Plot the output of the fitting procedure (a history object) using the function plot_history defined above.\n",
    "8. Determine the indices of all test images that are misclassified by the fitted model and plot some of them using the function \n",
    "   `plot_some_samples(x_test, y_test, yhat_test, error_indices, label_mapping = subset_of_classes)`\n",
    "\n",
    "\n",
    "Hints:\n",
    "* Read the keras docs, in particular [Getting started with the Keras Sequential model](https://keras.io/getting-started/sequential-model-guide/).\n",
    "* Have a look at the keras [examples](https://github.com/keras-team/keras/tree/master/examples), e.g. [mnist_mlp](https://github.com/keras-team/keras/blob/master/examples/mnist_mlp.py)."
   ]
  },
  {
   "cell_type": "markdown",
   "metadata": {},
   "source": [
    "### Solution"
   ]
  },
  {
   "cell_type": "markdown",
   "metadata": {},
   "source": [
    "Remark August:\n",
    "- I don't see any increase after 30 epochs"
   ]
  },
  {
   "cell_type": "code",
   "execution_count": 11,
   "metadata": {},
   "outputs": [],
   "source": [
    "\"\"\"\n",
    "Parameters\n",
    "\"\"\"\n",
    "batch_size = 128\n",
    "num_classes = len(subset_of_classes)\n",
    "epochs = 80\n",
    "input_shape = (16*16,)\n",
    "optimizer = SGD()\n",
    "\n",
    "from keras.callbacks import EarlyStopping\n",
    "stop_callback = EarlyStopping(monitor='acc', min_delta=0.0001, patience=11, verbose=1, mode='auto')"
   ]
  },
  {
   "cell_type": "code",
   "execution_count": 12,
   "metadata": {},
   "outputs": [
    {
     "name": "stdout",
     "output_type": "stream",
     "text": [
      "_________________________________________________________________\n",
      "Layer (type)                 Output Shape              Param #   \n",
      "=================================================================\n",
      "dense_1 (Dense)              (None, 5)                 1285      \n",
      "=================================================================\n",
      "Total params: 1,285\n",
      "Trainable params: 1,285\n",
      "Non-trainable params: 0\n",
      "_________________________________________________________________\n"
     ]
    }
   ],
   "source": [
    "\"\"\"\n",
    "Model architecture\n",
    "\"\"\"\n",
    "\n",
    "model1 = Sequential()\n",
    "model1.add(Dense(num_classes, activation='softmax', input_shape=input_shape))\n",
    "\n",
    "model1.summary()"
   ]
  },
  {
   "cell_type": "code",
   "execution_count": 19,
   "metadata": {},
   "outputs": [
    {
     "name": "stdout",
     "output_type": "stream",
     "text": [
      "Test loss: 1.5248116522856843\n",
      "Test accuracy: 0.3903390150337978\n"
     ]
    }
   ],
   "source": [
    "\"\"\"\n",
    "Training the model\n",
    "\"\"\"\n",
    "\n",
    "model1.compile(loss='categorical_crossentropy',\n",
    "               optimizer=optimizer,\n",
    "               metrics=['accuracy']\n",
    "              )\n",
    "\n",
    "history = model1.fit(x_train, y_train,\n",
    "                     batch_size=batch_size,\n",
    "                     epochs=epochs,\n",
    "                     verbose=0,\n",
    "                     validation_data=(x_test, y_test),\n",
    "                     callbacks=[stop_callback]\n",
    "                    )\n",
    "\n",
    "score = model1.evaluate(x_test, y_test, verbose=0)\n",
    "print('Test loss:', score[0])\n",
    "print('Test accuracy:', score[1])"
   ]
  },
  {
   "cell_type": "code",
   "execution_count": 20,
   "metadata": {},
   "outputs": [],
   "source": [
    "\"\"\"\n",
    "Saving the model. /!\\ Do not run unless you want to override it.\n",
    "\"\"\"\n",
    "save_model(model1, 'exercise1')"
   ]
  },
  {
   "cell_type": "code",
   "execution_count": 26,
   "metadata": {},
   "outputs": [],
   "source": [
    "\"\"\"\n",
    "Loading the model and the history.\n",
    "\"\"\"\n",
    "load_model(model1, 'exercise1')"
   ]
  },
  {
   "cell_type": "code",
   "execution_count": 28,
   "metadata": {},
   "outputs": [
    {
     "data": {
      "image/png": "[encoded data removed]",
      "text/plain": [
       "<Figure size 720x432 with 2 Axes>"
      ]
     },
     "metadata": {},
     "output_type": "display_data"
    }
   ],
   "source": [
    "plot_history(history, 'History exercise 1')"
   ]
  },
  {
   "cell_type": "code",
   "execution_count": 52,
   "metadata": {},
   "outputs": [
    {
     "data": {
      "image/png": "[encoded data removed]",
      "text/plain": [
       "<Figure size 720x432 with 24 Axes>"
      ]
     },
     "execution_count": 52,
     "metadata": {},
     "output_type": "execute_result"
    },
    {
     "data": {
      "image/png": "[encoded data removed]",
      "text/plain": [
       "<Figure size 720x432 with 24 Axes>"
      ]
     },
     "metadata": {},
     "output_type": "display_data"
    }
   ],
   "source": [
    "yhat_test = model1.predict_classes(x_test)\n",
    "y_test_labels = np.argmax(y_test, axis=1)\n",
    "error_indices = np.where(predictions_test != y_test_labels)[0]\n",
    "\n",
    "plot_some_samples(x_test, y_test, yhat_test, error_indices, label_mapping = subset_of_classes)"
   ]
  },
  {
   "cell_type": "markdown",
   "metadata": {},
   "source": [
    "From this plot it seems like the model is often wrong by predicting 1 : this class is overrepresented in the wrong labels."
   ]
  },
  {
   "cell_type": "markdown",
   "metadata": {},
   "source": [
    "## Exercise 2: One hidden layer, different optizimizers\n",
    "### Description\n",
    "\n",
    "Train a network with one hidden layer and compare different optimizers.\n",
    "\n",
    "1. Use one hidden layer with 64 units and the 'relu' activation. Use the [summary method](https://keras.io/models/about-keras-models/) to inspect your model.\n",
    "2. Fit the model for 50 epochs with different learning rates of stochastic gradient descent and answer the question below.\n",
    "3. Replace the stochastic gradient descent optimizer with the [Adam optimizer](https://keras.io/optimizers/#adam).\n",
    "4. Plot the learning curves of SGD with a reasonable learning rate together with the learning curves of Adam in the same figure. Take care of a reasonable labeling of the curves in the plot."
   ]
  },
  {
   "cell_type": "markdown",
   "metadata": {},
   "source": [
    "### Solution"
   ]
  },
  {
   "cell_type": "code",
   "execution_count": 60,
   "metadata": {},
   "outputs": [],
   "source": [
    "\"\"\"\n",
    "Parameters\n",
    "\"\"\"\n",
    "hidden_units = 64\n",
    "batch_size = 128\n",
    "num_classes = len(subset_of_classes)\n",
    "epochs = 50\n",
    "input_shape = (16*16,)"
   ]
  },
  {
   "cell_type": "code",
   "execution_count": 61,
   "metadata": {},
   "outputs": [
    {
     "name": "stdout",
     "output_type": "stream",
     "text": [
      "_________________________________________________________________\n",
      "Layer (type)                 Output Shape              Param #   \n",
      "=================================================================\n",
      "dense_11 (Dense)             (None, 64)                16448     \n",
      "_________________________________________________________________\n",
      "dense_12 (Dense)             (None, 5)                 325       \n",
      "=================================================================\n",
      "Total params: 16,773\n",
      "Trainable params: 16,773\n",
      "Non-trainable params: 0\n",
      "_________________________________________________________________\n"
     ]
    }
   ],
   "source": [
    "\"\"\"\n",
    "Model architecture\n",
    "\"\"\"\n",
    "model2 = Sequential()\n",
    "\n",
    "model2.add(Dense(hidden_units,\n",
    "                 activation='relu',\n",
    "                 input_shape=input_shape\n",
    "                )\n",
    "          )\n",
    "\n",
    "model2.add(Dense(num_classes,\n",
    "                 activation='softmax'\n",
    "                )\n",
    "          )\n",
    "\n",
    "model2.summary()"
   ]
  },
  {
   "cell_type": "code",
   "execution_count": 62,
   "metadata": {
    "scrolled": true
   },
   "outputs": [
    {
     "name": "stdout",
     "output_type": "stream",
     "text": [
      "learning rate:  1e-05\n",
      "Test loss: 1.5724765705952848\n",
      "Test accuracy: 0.30788099880589354 \n",
      "\n",
      "learning rate:  2.6826957952797274e-05\n",
      "Test loss: 1.559975296073353\n",
      "Test accuracy: 0.31536574627381914 \n",
      "\n",
      "learning rate:  7.196856730011514e-05\n",
      "Test loss: 1.547314888726646\n",
      "Test accuracy: 0.3212780678030065 \n",
      "\n",
      "learning rate:  0.00019306977288832496\n",
      "Test loss: 1.52527684014176\n",
      "Test accuracy: 0.3309013145480848 \n",
      "\n",
      "learning rate:  0.0005179474679231213\n",
      "Test loss: 1.4822358875441413\n",
      "Test accuracy: 0.3657462733505252 \n",
      "\n",
      "learning rate:  0.0013894954943731374\n",
      "Test loss: 1.3345368951587184\n",
      "Test accuracy: 0.462796402290858 \n",
      "\n",
      "learning rate:  0.003727593720314938\n",
      "Test loss: 0.9671403518434786\n",
      "Test accuracy: 0.6758286684490958 \n",
      "\n",
      "learning rate:  0.01\n",
      "Test loss: 0.726822166917039\n",
      "Test accuracy: 0.7792942952461922 \n",
      "\n",
      "learning rate:  0.026826957952797246\n",
      "Test loss: 0.5632070332167621\n",
      "Test accuracy: 0.8372853638556133 \n",
      "\n",
      "learning rate:  0.07196856730011514\n",
      "Test loss: 0.48473833152592366\n",
      "Test accuracy: 0.8681678092811863 \n",
      "\n",
      "learning rate:  0.19306977288832497\n",
      "Test loss: 0.5161752153758066\n",
      "Test accuracy: 0.8735140574728965 \n",
      "\n",
      "learning rate:  0.5179474679231213\n",
      "Test loss: 0.4976085222748152\n",
      "Test accuracy: 0.878545820476859 \n",
      "\n",
      "learning rate:  1.389495494373136\n",
      "Test loss: 10.948828912604581\n",
      "Test accuracy: 0.3207119944650607 \n",
      "\n",
      "learning rate:  3.727593720314938\n",
      "Test loss: 10.948828912604581\n",
      "Test accuracy: 0.3207119944650607 \n",
      "\n",
      "learning rate:  10.0\n",
      "Test loss: 10.948828912604581\n",
      "Test accuracy: 0.3207119944650607 \n",
      "\n"
     ]
    }
   ],
   "source": [
    "\"\"\"\n",
    "Fitting the same model with several learning\n",
    "rates and comparing the differences.\n",
    "\"\"\"\n",
    "\n",
    "test_losses = []\n",
    "test_accs = []\n",
    "\n",
    "learning_rates = np.logspace(-5, 1, 15)\n",
    "\n",
    "for lr in learning_rates:\n",
    "    \n",
    "    model2.compile(loss='categorical_crossentropy', \n",
    "                   optimizer=SGD(lr=lr), \n",
    "                   metrics=['accuracy'])\n",
    "\n",
    "    model2.fit(x_train, y_train,\n",
    "               batch_size=batch_size,\n",
    "               epochs=epochs,\n",
    "               verbose=0,\n",
    "               validation_data=(x_test, y_test)\n",
    "              )\n",
    "    \n",
    "    score = model2.evaluate(x_test, y_test, verbose=0)\n",
    "    test_losses.append(score[0])\n",
    "    test_accs.append(score[1])\n",
    "    print('learning rate: ', lr)\n",
    "    print('Test loss:', score[0])\n",
    "    print('Test accuracy:', score[1], '\\n')"
   ]
  },
  {
   "cell_type": "code",
   "execution_count": 109,
   "metadata": {},
   "outputs": [],
   "source": [
    "\"\"\"\n",
    "Saving the lists. /!\\ Do not run it unless you want to override them.\n",
    "\"\"\"\n",
    "save_obj(test_losses, 'ex2_losses')\n",
    "save_obj(test_accs, 'ex2_accs')"
   ]
  },
  {
   "cell_type": "code",
   "execution_count": 111,
   "metadata": {},
   "outputs": [],
   "source": [
    "\"\"\"\n",
    "Loading the lists.\n",
    "\"\"\"\n",
    "test_losses = load_obj('ex2_losses')\n",
    "test_accs = load_obj('ex2_accs')"
   ]
  },
  {
   "cell_type": "markdown",
   "metadata": {},
   "source": [
    "Plot with respect to different learning rates"
   ]
  },
  {
   "cell_type": "code",
   "execution_count": 82,
   "metadata": {},
   "outputs": [
    {
     "data": {
      "image/png": "[encoded data removed]",
      "text/plain": [
       "<Figure size 1152x720 with 2 Axes>"
      ]
     },
     "metadata": {},
     "output_type": "display_data"
    }
   ],
   "source": [
    "fig, ax = plt.subplots(2, 1, figsize=(16,10))\n",
    "\n",
    "ax[0].semilogx(learning_rates, test_losses)\n",
    "ax[0].set_title('Cross-entropy as a function of the learning rate in the test set')\n",
    "ax[0].set_ylabel('Cross-entropy loss')\n",
    "ax[0].set_xlabel('Learning rate')\n",
    "\n",
    "ax[1].semilogx(learning_rates, test_accs)\n",
    "ax[1].set_title('Accuracy as a function of the learning rate in the test set')\n",
    "ax[1].set_ylabel('Accuracy')\n",
    "ax[1].set_xlabel('Learning rate')\n",
    "\n",
    "plt.tight_layout()\n",
    "\n",
    "plt.show()"
   ]
  },
  {
   "cell_type": "markdown",
   "metadata": {},
   "source": [
    "#### With Adam optimizer"
   ]
  },
  {
   "cell_type": "code",
   "execution_count": 45,
   "metadata": {
    "collapsed": true
   },
   "outputs": [],
   "source": [
    "from keras.optimizers import Adam"
   ]
  },
  {
   "cell_type": "code",
   "execution_count": null,
   "metadata": {},
   "outputs": [],
   "source": [
    "\"\"\"\n",
    "Parameters\n",
    "\"\"\"\n",
    "hidden_units = 64\n",
    "batch_size = 128\n",
    "num_classes = len(subset_of_classes)\n",
    "epochs = 50\n",
    "input_shape = (16*16,)\n",
    "optimizer = Adam()"
   ]
  },
  {
   "cell_type": "code",
   "execution_count": 54,
   "metadata": {
    "scrolled": true
   },
   "outputs": [
    {
     "name": "stdout",
     "output_type": "stream",
     "text": [
      "Train on 43734 samples, validate on 15899 samples\n",
      "Epoch 1/50\n",
      " - 2s - loss: 1.3533 - acc: 0.4652 - val_loss: 1.1129 - val_acc: 0.6548\n",
      "Epoch 2/50\n",
      " - 2s - loss: 0.9395 - acc: 0.7079 - val_loss: 0.8634 - val_acc: 0.7414\n",
      "Epoch 3/50\n",
      " - 2s - loss: 0.7614 - acc: 0.7771 - val_loss: 0.7726 - val_acc: 0.7646\n",
      "Epoch 4/50\n",
      " - 2s - loss: 0.6788 - acc: 0.8010 - val_loss: 0.7303 - val_acc: 0.7823\n",
      "Epoch 5/50\n",
      " - 2s - loss: 0.6283 - acc: 0.8161 - val_loss: 0.7016 - val_acc: 0.7931\n",
      "Epoch 6/50\n",
      " - 2s - loss: 0.5962 - acc: 0.8261 - val_loss: 0.6656 - val_acc: 0.8017\n",
      "Epoch 7/50\n",
      " - 1s - loss: 0.5713 - acc: 0.8306 - val_loss: 0.6445 - val_acc: 0.8106\n",
      "Epoch 8/50\n",
      " - 2s - loss: 0.5501 - acc: 0.8373 - val_loss: 0.6381 - val_acc: 0.8128\n",
      "Epoch 9/50\n",
      " - 2s - loss: 0.5342 - acc: 0.8404 - val_loss: 0.6475 - val_acc: 0.8052\n",
      "Epoch 10/50\n",
      " - 2s - loss: 0.5189 - acc: 0.8452 - val_loss: 0.6078 - val_acc: 0.8217\n",
      "Epoch 11/50\n",
      " - 1s - loss: 0.5040 - acc: 0.8505 - val_loss: 0.5873 - val_acc: 0.8293\n",
      "Epoch 12/50\n",
      " - 2s - loss: 0.4915 - acc: 0.8546 - val_loss: 0.5788 - val_acc: 0.8318\n",
      "Epoch 13/50\n",
      " - 2s - loss: 0.4765 - acc: 0.8583 - val_loss: 0.5699 - val_acc: 0.8353\n",
      "Epoch 14/50\n",
      " - 1s - loss: 0.4656 - acc: 0.8614 - val_loss: 0.5697 - val_acc: 0.8336\n",
      "Epoch 15/50\n",
      " - 2s - loss: 0.4560 - acc: 0.8648 - val_loss: 0.5543 - val_acc: 0.8421\n",
      "Epoch 16/50\n",
      " - 2s - loss: 0.4474 - acc: 0.8674 - val_loss: 0.5377 - val_acc: 0.8462\n",
      "Epoch 17/50\n",
      " - 1s - loss: 0.4348 - acc: 0.8717 - val_loss: 0.5314 - val_acc: 0.8471\n",
      "Epoch 18/50\n",
      " - 1s - loss: 0.4275 - acc: 0.8719 - val_loss: 0.5182 - val_acc: 0.8518\n",
      "Epoch 19/50\n",
      " - 1s - loss: 0.4193 - acc: 0.8763 - val_loss: 0.5185 - val_acc: 0.8542\n",
      "Epoch 20/50\n",
      " - 1s - loss: 0.4119 - acc: 0.8787 - val_loss: 0.5574 - val_acc: 0.8350\n",
      "Epoch 21/50\n",
      " - 1s - loss: 0.4055 - acc: 0.8792 - val_loss: 0.5094 - val_acc: 0.8583\n",
      "Epoch 22/50\n",
      " - 1s - loss: 0.3964 - acc: 0.8839 - val_loss: 0.4935 - val_acc: 0.8616\n",
      "Epoch 23/50\n",
      " - 1s - loss: 0.3890 - acc: 0.8854 - val_loss: 0.4980 - val_acc: 0.8589\n",
      "Epoch 24/50\n",
      " - 1s - loss: 0.3851 - acc: 0.8879 - val_loss: 0.4990 - val_acc: 0.8609\n",
      "Epoch 25/50\n",
      " - 1s - loss: 0.3779 - acc: 0.8887 - val_loss: 0.4804 - val_acc: 0.8676\n",
      "Epoch 26/50\n",
      " - 1s - loss: 0.3746 - acc: 0.8909 - val_loss: 0.4823 - val_acc: 0.8677\n",
      "Epoch 27/50\n",
      " - 1s - loss: 0.3656 - acc: 0.8937 - val_loss: 0.4735 - val_acc: 0.8703\n",
      "Epoch 28/50\n",
      " - 1s - loss: 0.3638 - acc: 0.8940 - val_loss: 0.4756 - val_acc: 0.8687\n",
      "Epoch 29/50\n",
      " - 1s - loss: 0.3617 - acc: 0.8949 - val_loss: 0.4808 - val_acc: 0.8681\n",
      "Epoch 30/50\n",
      " - 1s - loss: 0.3584 - acc: 0.8958 - val_loss: 0.4744 - val_acc: 0.8704\n",
      "Epoch 31/50\n",
      " - 1s - loss: 0.3487 - acc: 0.8984 - val_loss: 0.4773 - val_acc: 0.8693\n",
      "Epoch 32/50\n",
      " - 1s - loss: 0.3468 - acc: 0.8998 - val_loss: 0.4657 - val_acc: 0.8733\n",
      "Epoch 33/50\n",
      " - 1s - loss: 0.3424 - acc: 0.9011 - val_loss: 0.4593 - val_acc: 0.8767\n",
      "Epoch 34/50\n",
      " - 1s - loss: 0.3384 - acc: 0.9013 - val_loss: 0.4650 - val_acc: 0.8750\n",
      "Epoch 35/50\n",
      " - 1s - loss: 0.3366 - acc: 0.9022 - val_loss: 0.4603 - val_acc: 0.8769\n",
      "Epoch 36/50\n",
      " - 2s - loss: 0.3327 - acc: 0.9041 - val_loss: 0.4674 - val_acc: 0.8756\n",
      "Epoch 37/50\n",
      " - 2s - loss: 0.3287 - acc: 0.9047 - val_loss: 0.4621 - val_acc: 0.8747\n",
      "Epoch 38/50\n",
      " - 1s - loss: 0.3278 - acc: 0.9054 - val_loss: 0.4539 - val_acc: 0.8770\n",
      "Epoch 39/50\n",
      " - 1s - loss: 0.3241 - acc: 0.9056 - val_loss: 0.4568 - val_acc: 0.8775\n",
      "Epoch 40/50\n",
      " - 2s - loss: 0.3208 - acc: 0.9063 - val_loss: 0.4599 - val_acc: 0.8816\n",
      "Epoch 41/50\n",
      " - 2s - loss: 0.3181 - acc: 0.9077 - val_loss: 0.4490 - val_acc: 0.8813\n",
      "Epoch 42/50\n",
      " - 2s - loss: 0.3156 - acc: 0.9087 - val_loss: 0.4509 - val_acc: 0.8836\n",
      "Epoch 43/50\n",
      " - 2s - loss: 0.3133 - acc: 0.9093 - val_loss: 0.4506 - val_acc: 0.8819\n",
      "Epoch 44/50\n",
      " - 2s - loss: 0.3121 - acc: 0.9098 - val_loss: 0.4521 - val_acc: 0.8804\n",
      "Epoch 45/50\n",
      " - 2s - loss: 0.3100 - acc: 0.9099 - val_loss: 0.4456 - val_acc: 0.8831\n",
      "Epoch 46/50\n",
      " - 1s - loss: 0.3032 - acc: 0.9124 - val_loss: 0.4453 - val_acc: 0.8849\n",
      "Epoch 47/50\n",
      " - 2s - loss: 0.3046 - acc: 0.9118 - val_loss: 0.4554 - val_acc: 0.8823\n",
      "Epoch 48/50\n",
      " - 2s - loss: 0.2999 - acc: 0.9132 - val_loss: 0.4554 - val_acc: 0.8819\n",
      "Epoch 49/50\n",
      " - 2s - loss: 0.2981 - acc: 0.9136 - val_loss: 0.4524 - val_acc: 0.8840\n",
      "Epoch 50/50\n",
      " - 2s - loss: 0.2974 - acc: 0.9131 - val_loss: 0.4363 - val_acc: 0.8876\n"
     ]
    },
    {
     "data": {
      "text/plain": [
       "<keras.callbacks.History at 0x149b91cf8>"
      ]
     },
     "execution_count": 54,
     "metadata": {},
     "output_type": "execute_result"
    }
   ],
   "source": [
    "model2 = Sequential()\n",
    "\n",
    "model2.add(Dense(hidden_units,\n",
    "                 activation='relu',\n",
    "                 input_shape=input_shape\n",
    "                )\n",
    "          )\n",
    "\n",
    "model2.add(Dense(num_classes, activation='softmax'))\n",
    "\n",
    "model2.compile(loss='categorical_crossentropy',\n",
    "               optimizer = optimizer,\n",
    "               metrics=['accuracy']\n",
    "              )\n",
    "\n",
    "model2.fit(x_train, y_train,\n",
    "           batch_size=batch_size,\n",
    "           epochs=epochs,\n",
    "           verbose=2,\n",
    "           validation_data=(x_test, y_test)\n",
    "          )"
   ]
  },
  {
   "cell_type": "markdown",
   "metadata": {},
   "source": [
    "We achieve with Adam optimizer a better loss and accuracy, compared to the best result of the SGD optimizer.\n",
    "\n",
    "- Loss: 0.43 (Adam) vs 0.47 (SGD)\n",
    "- Accuracy: 0.89 (Adam) vs 0.87 (SGD)"
   ]
  },
  {
   "cell_type": "code",
   "execution_count": 55,
   "metadata": {},
   "outputs": [
    {
     "name": "stdout",
     "output_type": "stream",
     "text": [
      "Test loss: 0.436292751395\n",
      "Test accuracy: 0.88760299391 \n",
      "\n"
     ]
    }
   ],
   "source": [
    "score = model2.evaluate(x_test, y_test, verbose=0)\n",
    "print('Test loss:', score[0])\n",
    "print('Test accuracy:', score[1], '\\n')"
   ]
  },
  {
   "cell_type": "markdown",
   "metadata": {},
   "source": [
    "**Question**: What happens if the learning rate of SGD is A) very large B) very small? Please answer A) and B) with one full sentence (double click this markdown cell to edit).\n",
    "\n",
    "**Answer**:\n",
    "\n",
    "A) \n",
    "\n",
    "B) "
   ]
  },
  {
   "cell_type": "markdown",
   "metadata": {},
   "source": [
    "## Exercise 3: Overfitting and early stopping with Adam\n",
    "\n",
    "### Description\n",
    "\n",
    "Run the above simulation with Adam for sufficiently many epochs (be patient!) until you see clear overfitting.\n",
    "\n",
    "1. Plot the learning curves of a fit with Adam and sufficiently many epochs and answer the questions below.\n",
    "\n",
    "A simple, but effective mean to avoid overfitting is early stopping, i.e. a fit is not run until convergence but stopped as soon as the validation error starts to increase. We will use early stopping in all subsequent exercises.\n",
    "\n",
    "### Solution"
   ]
  },
  {
   "cell_type": "markdown",
   "metadata": {},
   "source": [
    "[JE NE L AI PAS FAIS TOURNER ASSEZ LONGTEMPS, FAUDRAIT VOIR CE QUE CA FAIT 1000 epochs]"
   ]
  },
  {
   "cell_type": "code",
   "execution_count": 61,
   "metadata": {},
   "outputs": [
    {
     "name": "stdout",
     "output_type": "stream",
     "text": [
      "Train on 43734 samples, validate on 15899 samples\n",
      "Epoch 1/200\n",
      " - 2s - loss: 1.3424 - acc: 0.4753 - val_loss: 1.0703 - val_acc: 0.6331\n",
      "Epoch 2/200\n",
      " - 2s - loss: 0.9102 - acc: 0.7220 - val_loss: 0.8404 - val_acc: 0.7400\n",
      "Epoch 3/200\n",
      " - 2s - loss: 0.7463 - acc: 0.7799 - val_loss: 0.7788 - val_acc: 0.7679\n",
      "Epoch 4/200\n",
      " - 2s - loss: 0.6693 - acc: 0.8039 - val_loss: 0.7306 - val_acc: 0.7838\n",
      "Epoch 5/200\n",
      " - 2s - loss: 0.6245 - acc: 0.8181 - val_loss: 0.7048 - val_acc: 0.7912\n",
      "Epoch 6/200\n",
      " - 2s - loss: 0.5931 - acc: 0.8248 - val_loss: 0.6694 - val_acc: 0.7973\n",
      "Epoch 7/200\n",
      " - 2s - loss: 0.5672 - acc: 0.8307 - val_loss: 0.6524 - val_acc: 0.8069\n",
      "Epoch 8/200\n",
      " - 2s - loss: 0.5458 - acc: 0.8382 - val_loss: 0.6638 - val_acc: 0.8016\n",
      "Epoch 9/200\n",
      " - 2s - loss: 0.5300 - acc: 0.8423 - val_loss: 0.6293 - val_acc: 0.8121\n",
      "Epoch 10/200\n",
      " - 2s - loss: 0.5120 - acc: 0.8464 - val_loss: 0.6010 - val_acc: 0.8195\n",
      "Epoch 11/200\n",
      " - 2s - loss: 0.4981 - acc: 0.8512 - val_loss: 0.6014 - val_acc: 0.8195\n",
      "Epoch 12/200\n",
      " - 2s - loss: 0.4852 - acc: 0.8555 - val_loss: 0.5806 - val_acc: 0.8269\n",
      "Epoch 13/200\n",
      " - 2s - loss: 0.4730 - acc: 0.8594 - val_loss: 0.5635 - val_acc: 0.8348\n",
      "Epoch 14/200\n",
      " - 2s - loss: 0.4610 - acc: 0.8621 - val_loss: 0.5510 - val_acc: 0.8347\n",
      "Epoch 15/200\n",
      " - 2s - loss: 0.4505 - acc: 0.8652 - val_loss: 0.5645 - val_acc: 0.8323\n",
      "Epoch 16/200\n",
      " - 2s - loss: 0.4412 - acc: 0.8690 - val_loss: 0.5403 - val_acc: 0.8414\n",
      "Epoch 17/200\n",
      " - 2s - loss: 0.4307 - acc: 0.8709 - val_loss: 0.5252 - val_acc: 0.8467\n",
      "Epoch 18/200\n",
      " - 2s - loss: 0.4224 - acc: 0.8754 - val_loss: 0.5194 - val_acc: 0.8511\n",
      "Epoch 19/200\n",
      " - 2s - loss: 0.4126 - acc: 0.8771 - val_loss: 0.5050 - val_acc: 0.8545\n",
      "Epoch 20/200\n",
      " - 2s - loss: 0.4038 - acc: 0.8803 - val_loss: 0.5132 - val_acc: 0.8538\n",
      "Epoch 21/200\n",
      " - 2s - loss: 0.3977 - acc: 0.8821 - val_loss: 0.4927 - val_acc: 0.8562\n",
      "Epoch 22/200\n",
      " - 2s - loss: 0.3923 - acc: 0.8838 - val_loss: 0.4900 - val_acc: 0.8600\n",
      "Epoch 23/200\n",
      " - 2s - loss: 0.3844 - acc: 0.8864 - val_loss: 0.4846 - val_acc: 0.8640\n",
      "Epoch 24/200\n",
      " - 2s - loss: 0.3784 - acc: 0.8881 - val_loss: 0.4801 - val_acc: 0.8660\n",
      "Epoch 25/200\n",
      " - 2s - loss: 0.3721 - acc: 0.8895 - val_loss: 0.4753 - val_acc: 0.8655\n",
      "Epoch 26/200\n",
      " - 2s - loss: 0.3678 - acc: 0.8911 - val_loss: 0.4653 - val_acc: 0.8698\n",
      "Epoch 27/200\n",
      " - 2s - loss: 0.3609 - acc: 0.8943 - val_loss: 0.4621 - val_acc: 0.8697\n",
      "Epoch 28/200\n",
      " - 2s - loss: 0.3567 - acc: 0.8938 - val_loss: 0.4577 - val_acc: 0.8716\n",
      "Epoch 29/200\n",
      " - 2s - loss: 0.3516 - acc: 0.8968 - val_loss: 0.4558 - val_acc: 0.8731\n",
      "Epoch 30/200\n",
      " - 2s - loss: 0.3463 - acc: 0.8988 - val_loss: 0.4525 - val_acc: 0.8751\n",
      "Epoch 31/200\n",
      " - 2s - loss: 0.3431 - acc: 0.8992 - val_loss: 0.4497 - val_acc: 0.8787\n",
      "Epoch 32/200\n",
      " - 2s - loss: 0.3406 - acc: 0.8999 - val_loss: 0.4457 - val_acc: 0.8768\n",
      "Epoch 33/200\n",
      " - 2s - loss: 0.3362 - acc: 0.9021 - val_loss: 0.4609 - val_acc: 0.8731\n",
      "Epoch 34/200\n",
      " - 2s - loss: 0.3339 - acc: 0.9019 - val_loss: 0.4490 - val_acc: 0.8770\n",
      "Epoch 35/200\n",
      " - 2s - loss: 0.3294 - acc: 0.9020 - val_loss: 0.4498 - val_acc: 0.8780\n",
      "Epoch 36/200\n",
      " - 2s - loss: 0.3251 - acc: 0.9052 - val_loss: 0.4439 - val_acc: 0.8802\n",
      "Epoch 37/200\n",
      " - 2s - loss: 0.3210 - acc: 0.9053 - val_loss: 0.4635 - val_acc: 0.8740\n",
      "Epoch 38/200\n",
      " - 2s - loss: 0.3177 - acc: 0.9073 - val_loss: 0.4326 - val_acc: 0.8854\n",
      "Epoch 39/200\n",
      " - 2s - loss: 0.3165 - acc: 0.9076 - val_loss: 0.4554 - val_acc: 0.8765\n",
      "Epoch 40/200\n",
      " - 2s - loss: 0.3130 - acc: 0.9079 - val_loss: 0.4686 - val_acc: 0.8748\n",
      "Epoch 41/200\n",
      " - 2s - loss: 0.3097 - acc: 0.9094 - val_loss: 0.4393 - val_acc: 0.8841\n",
      "Epoch 42/200\n",
      " - 2s - loss: 0.3100 - acc: 0.9083 - val_loss: 0.4443 - val_acc: 0.8824\n",
      "Epoch 43/200\n",
      " - 2s - loss: 0.3046 - acc: 0.9100 - val_loss: 0.4365 - val_acc: 0.8856\n",
      "Epoch 44/200\n",
      " - 2s - loss: 0.3026 - acc: 0.9113 - val_loss: 0.4391 - val_acc: 0.8825\n",
      "Epoch 45/200\n",
      " - 2s - loss: 0.2995 - acc: 0.9120 - val_loss: 0.4290 - val_acc: 0.8869\n",
      "Epoch 46/200\n",
      " - 2s - loss: 0.2960 - acc: 0.9131 - val_loss: 0.4428 - val_acc: 0.8829\n",
      "Epoch 47/200\n",
      " - 2s - loss: 0.2958 - acc: 0.9128 - val_loss: 0.4294 - val_acc: 0.8863\n",
      "Epoch 48/200\n",
      " - 2s - loss: 0.2923 - acc: 0.9141 - val_loss: 0.4310 - val_acc: 0.8869\n",
      "Epoch 49/200\n",
      " - 2s - loss: 0.2908 - acc: 0.9156 - val_loss: 0.4340 - val_acc: 0.8864\n",
      "Epoch 50/200\n",
      " - 2s - loss: 0.2886 - acc: 0.9154 - val_loss: 0.4337 - val_acc: 0.8860\n",
      "Epoch 51/200\n",
      " - 2s - loss: 0.2899 - acc: 0.9159 - val_loss: 0.4249 - val_acc: 0.8889\n",
      "Epoch 52/200\n",
      " - 2s - loss: 0.2850 - acc: 0.9157 - val_loss: 0.4372 - val_acc: 0.8866\n",
      "Epoch 53/200\n",
      " - 2s - loss: 0.2846 - acc: 0.9161 - val_loss: 0.4181 - val_acc: 0.8908\n",
      "Epoch 54/200\n",
      " - 2s - loss: 0.2820 - acc: 0.9170 - val_loss: 0.4261 - val_acc: 0.8900\n",
      "Epoch 55/200\n",
      " - 2s - loss: 0.2789 - acc: 0.9181 - val_loss: 0.4372 - val_acc: 0.8859\n",
      "Epoch 56/200\n",
      " - 2s - loss: 0.2789 - acc: 0.9170 - val_loss: 0.4301 - val_acc: 0.8907\n",
      "Epoch 57/200\n",
      " - 2s - loss: 0.2756 - acc: 0.9190 - val_loss: 0.4241 - val_acc: 0.8919\n",
      "Epoch 58/200\n",
      " - 2s - loss: 0.2742 - acc: 0.9198 - val_loss: 0.4199 - val_acc: 0.8910\n",
      "Epoch 59/200\n",
      " - 2s - loss: 0.2736 - acc: 0.9189 - val_loss: 0.4353 - val_acc: 0.8871\n",
      "Epoch 60/200\n",
      " - 2s - loss: 0.2697 - acc: 0.9202 - val_loss: 0.4310 - val_acc: 0.8909\n",
      "Epoch 61/200\n",
      " - 2s - loss: 0.2670 - acc: 0.9218 - val_loss: 0.4394 - val_acc: 0.8894\n",
      "Epoch 62/200\n",
      " - 2s - loss: 0.2670 - acc: 0.9211 - val_loss: 0.4355 - val_acc: 0.8915\n",
      "Epoch 63/200\n",
      " - 2s - loss: 0.2652 - acc: 0.9228 - val_loss: 0.4194 - val_acc: 0.8948\n",
      "Epoch 64/200\n",
      " - 2s - loss: 0.2654 - acc: 0.9214 - val_loss: 0.4290 - val_acc: 0.8921\n",
      "Epoch 65/200\n",
      " - 2s - loss: 0.2635 - acc: 0.9227 - val_loss: 0.4296 - val_acc: 0.8902\n",
      "Epoch 66/200\n",
      " - 2s - loss: 0.2622 - acc: 0.9228 - val_loss: 0.4281 - val_acc: 0.8921\n",
      "Epoch 67/200\n",
      " - 2s - loss: 0.2606 - acc: 0.9233 - val_loss: 0.4211 - val_acc: 0.8952\n",
      "Epoch 68/200\n",
      " - 2s - loss: 0.2593 - acc: 0.9235 - val_loss: 0.4259 - val_acc: 0.8940\n",
      "Epoch 69/200\n",
      " - 2s - loss: 0.2592 - acc: 0.9239 - val_loss: 0.4229 - val_acc: 0.8951\n",
      "Epoch 70/200\n",
      " - 2s - loss: 0.2548 - acc: 0.9248 - val_loss: 0.4211 - val_acc: 0.8956\n",
      "Epoch 71/200\n",
      " - 2s - loss: 0.2574 - acc: 0.9237 - val_loss: 0.4309 - val_acc: 0.8914\n",
      "Epoch 72/200\n",
      " - 2s - loss: 0.2550 - acc: 0.9243 - val_loss: 0.4325 - val_acc: 0.8937\n",
      "Epoch 73/200\n",
      " - 2s - loss: 0.2533 - acc: 0.9261 - val_loss: 0.4312 - val_acc: 0.8955\n",
      "Epoch 74/200\n",
      " - 2s - loss: 0.2500 - acc: 0.9266 - val_loss: 0.4318 - val_acc: 0.8937\n",
      "Epoch 75/200\n",
      " - 2s - loss: 0.2488 - acc: 0.9267 - val_loss: 0.4506 - val_acc: 0.8888\n",
      "Epoch 76/200\n",
      " - 2s - loss: 0.2511 - acc: 0.9259 - val_loss: 0.4340 - val_acc: 0.8932\n",
      "Epoch 77/200\n",
      " - 2s - loss: 0.2470 - acc: 0.9272 - val_loss: 0.4190 - val_acc: 0.8986\n",
      "Epoch 78/200\n",
      " - 2s - loss: 0.2504 - acc: 0.9254 - val_loss: 0.4325 - val_acc: 0.8928\n",
      "Epoch 79/200\n",
      " - 2s - loss: 0.2460 - acc: 0.9278 - val_loss: 0.4447 - val_acc: 0.8909\n",
      "Epoch 80/200\n",
      " - 2s - loss: 0.2431 - acc: 0.9287 - val_loss: 0.4213 - val_acc: 0.8976\n",
      "Epoch 81/200\n",
      " - 2s - loss: 0.2438 - acc: 0.9277 - val_loss: 0.4264 - val_acc: 0.8946\n",
      "Epoch 82/200\n",
      " - 2s - loss: 0.2399 - acc: 0.9290 - val_loss: 0.4389 - val_acc: 0.8903\n",
      "Epoch 83/200\n",
      " - 2s - loss: 0.2426 - acc: 0.9279 - val_loss: 0.4560 - val_acc: 0.8879\n",
      "Epoch 84/200\n",
      " - 1s - loss: 0.2408 - acc: 0.9284 - val_loss: 0.4242 - val_acc: 0.8965\n",
      "Epoch 85/200\n",
      " - 2s - loss: 0.2376 - acc: 0.9304 - val_loss: 0.4398 - val_acc: 0.8918\n",
      "Epoch 86/200\n",
      " - 2s - loss: 0.2406 - acc: 0.9290 - val_loss: 0.4708 - val_acc: 0.8838\n",
      "Epoch 87/200\n",
      " - 2s - loss: 0.2383 - acc: 0.9293 - val_loss: 0.4371 - val_acc: 0.8925\n",
      "Epoch 88/200\n",
      " - 2s - loss: 0.2339 - acc: 0.9302 - val_loss: 0.4306 - val_acc: 0.8968\n",
      "Epoch 89/200\n",
      " - 2s - loss: 0.2379 - acc: 0.9295 - val_loss: 0.4355 - val_acc: 0.8947\n",
      "Epoch 90/200\n",
      " - 2s - loss: 0.2336 - acc: 0.9310 - val_loss: 0.4301 - val_acc: 0.8957\n",
      "Epoch 91/200\n",
      " - 2s - loss: 0.2344 - acc: 0.9298 - val_loss: 0.4286 - val_acc: 0.8983\n",
      "Epoch 92/200\n",
      " - 2s - loss: 0.2317 - acc: 0.9317 - val_loss: 0.4282 - val_acc: 0.8987\n",
      "Epoch 93/200\n",
      " - 2s - loss: 0.2330 - acc: 0.9306 - val_loss: 0.4257 - val_acc: 0.8985\n",
      "Epoch 94/200\n",
      " - 2s - loss: 0.2309 - acc: 0.9308 - val_loss: 0.4378 - val_acc: 0.8958\n",
      "Epoch 95/200\n",
      " - 2s - loss: 0.2304 - acc: 0.9323 - val_loss: 0.4341 - val_acc: 0.8972\n",
      "Epoch 96/200\n",
      " - 2s - loss: 0.2298 - acc: 0.9314 - val_loss: 0.4207 - val_acc: 0.9001\n",
      "Epoch 97/200\n",
      " - 2s - loss: 0.2292 - acc: 0.9313 - val_loss: 0.4303 - val_acc: 0.8975\n",
      "Epoch 98/200\n",
      " - 2s - loss: 0.2274 - acc: 0.9318 - val_loss: 0.4335 - val_acc: 0.8977\n",
      "Epoch 99/200\n",
      " - 2s - loss: 0.2272 - acc: 0.9329 - val_loss: 0.4327 - val_acc: 0.8989\n",
      "Epoch 100/200\n",
      " - 2s - loss: 0.2241 - acc: 0.9341 - val_loss: 0.4328 - val_acc: 0.8974\n",
      "Epoch 101/200\n",
      " - 2s - loss: 0.2241 - acc: 0.9339 - val_loss: 0.4504 - val_acc: 0.8906\n",
      "Epoch 102/200\n",
      " - 2s - loss: 0.2224 - acc: 0.9348 - val_loss: 0.4436 - val_acc: 0.8935\n",
      "Epoch 103/200\n",
      " - 2s - loss: 0.2231 - acc: 0.9339 - val_loss: 0.4438 - val_acc: 0.8941\n",
      "Epoch 104/200\n",
      " - 2s - loss: 0.2222 - acc: 0.9340 - val_loss: 0.4319 - val_acc: 0.9002\n",
      "Epoch 105/200\n",
      " - 2s - loss: 0.2218 - acc: 0.9339 - val_loss: 0.4358 - val_acc: 0.8981\n",
      "Epoch 106/200\n",
      " - 2s - loss: 0.2226 - acc: 0.9332 - val_loss: 0.4358 - val_acc: 0.8993\n",
      "Epoch 107/200\n",
      " - 2s - loss: 0.2187 - acc: 0.9352 - val_loss: 0.4418 - val_acc: 0.8981\n",
      "Epoch 108/200\n",
      " - 2s - loss: 0.2185 - acc: 0.9359 - val_loss: 0.4362 - val_acc: 0.8987\n",
      "Epoch 109/200\n",
      " - 2s - loss: 0.2181 - acc: 0.9354 - val_loss: 0.4347 - val_acc: 0.8984\n",
      "Epoch 110/200\n",
      " - 2s - loss: 0.2179 - acc: 0.9354 - val_loss: 0.4469 - val_acc: 0.8964\n",
      "Epoch 111/200\n",
      " - 2s - loss: 0.2144 - acc: 0.9369 - val_loss: 0.4323 - val_acc: 0.8999\n",
      "Epoch 112/200\n",
      " - 2s - loss: 0.2170 - acc: 0.9348 - val_loss: 0.4408 - val_acc: 0.8984\n",
      "Epoch 113/200\n",
      " - 2s - loss: 0.2163 - acc: 0.9355 - val_loss: 0.4377 - val_acc: 0.8992\n",
      "Epoch 114/200\n",
      " - 2s - loss: 0.2117 - acc: 0.9367 - val_loss: 0.4377 - val_acc: 0.8970\n",
      "Epoch 115/200\n",
      " - 2s - loss: 0.2131 - acc: 0.9359 - val_loss: 0.4471 - val_acc: 0.8981\n",
      "Epoch 116/200\n",
      " - 2s - loss: 0.2112 - acc: 0.9371 - val_loss: 0.4416 - val_acc: 0.9004\n",
      "Epoch 117/200\n",
      " - 2s - loss: 0.2114 - acc: 0.9367 - val_loss: 0.4390 - val_acc: 0.8979\n",
      "Epoch 118/200\n",
      " - 2s - loss: 0.2113 - acc: 0.9373 - val_loss: 0.4398 - val_acc: 0.8992\n",
      "Epoch 119/200\n",
      " - 2s - loss: 0.2132 - acc: 0.9352 - val_loss: 0.4732 - val_acc: 0.8908\n",
      "Epoch 120/200\n",
      " - 2s - loss: 0.2082 - acc: 0.9383 - val_loss: 0.4500 - val_acc: 0.8972\n",
      "Epoch 121/200\n",
      " - 2s - loss: 0.2095 - acc: 0.9375 - val_loss: 0.4611 - val_acc: 0.8918\n",
      "Epoch 122/200\n",
      " - 2s - loss: 0.2083 - acc: 0.9379 - val_loss: 0.4562 - val_acc: 0.8946\n",
      "Epoch 123/200\n",
      " - 2s - loss: 0.2121 - acc: 0.9375 - val_loss: 0.4489 - val_acc: 0.8977\n",
      "Epoch 124/200\n",
      " - 2s - loss: 0.2086 - acc: 0.9383 - val_loss: 0.4376 - val_acc: 0.9009\n",
      "Epoch 125/200\n",
      " - 2s - loss: 0.2101 - acc: 0.9367 - val_loss: 0.4402 - val_acc: 0.8990\n",
      "Epoch 126/200\n",
      " - 2s - loss: 0.2058 - acc: 0.9392 - val_loss: 0.4526 - val_acc: 0.8976\n",
      "Epoch 127/200\n",
      " - 2s - loss: 0.2033 - acc: 0.9393 - val_loss: 0.4539 - val_acc: 0.8963\n",
      "Epoch 128/200\n",
      " - 2s - loss: 0.2042 - acc: 0.9389 - val_loss: 0.4469 - val_acc: 0.8991\n",
      "Epoch 129/200\n",
      " - 2s - loss: 0.2058 - acc: 0.9389 - val_loss: 0.4554 - val_acc: 0.8955\n",
      "Epoch 130/200\n",
      " - 2s - loss: 0.2023 - acc: 0.9397 - val_loss: 0.4491 - val_acc: 0.8999\n",
      "Epoch 131/200\n",
      " - 2s - loss: 0.2011 - acc: 0.9401 - val_loss: 0.4570 - val_acc: 0.8960\n",
      "Epoch 132/200\n",
      " - 2s - loss: 0.2019 - acc: 0.9397 - val_loss: 0.4583 - val_acc: 0.8953\n",
      "Epoch 133/200\n",
      " - 2s - loss: 0.2009 - acc: 0.9401 - val_loss: 0.4541 - val_acc: 0.8986\n",
      "Epoch 134/200\n",
      " - 2s - loss: 0.2019 - acc: 0.9393 - val_loss: 0.4654 - val_acc: 0.8941\n",
      "Epoch 135/200\n",
      " - 2s - loss: 0.1990 - acc: 0.9409 - val_loss: 0.4690 - val_acc: 0.8918\n",
      "Epoch 136/200\n",
      " - 2s - loss: 0.2001 - acc: 0.9404 - val_loss: 0.4451 - val_acc: 0.9019\n",
      "Epoch 137/200\n",
      " - 2s - loss: 0.1971 - acc: 0.9408 - val_loss: 0.4485 - val_acc: 0.9008\n",
      "Epoch 138/200\n",
      " - 2s - loss: 0.2003 - acc: 0.9407 - val_loss: 0.4483 - val_acc: 0.9023\n",
      "Epoch 139/200\n",
      " - 2s - loss: 0.1991 - acc: 0.9407 - val_loss: 0.4502 - val_acc: 0.8988\n",
      "Epoch 140/200\n",
      " - 2s - loss: 0.1965 - acc: 0.9415 - val_loss: 0.4432 - val_acc: 0.9015\n",
      "Epoch 141/200\n",
      " - 2s - loss: 0.1951 - acc: 0.9428 - val_loss: 0.4572 - val_acc: 0.8985\n",
      "Epoch 142/200\n",
      " - 2s - loss: 0.1935 - acc: 0.9425 - val_loss: 0.4756 - val_acc: 0.8930\n",
      "Epoch 143/200\n",
      " - 2s - loss: 0.1975 - acc: 0.9404 - val_loss: 0.4504 - val_acc: 0.9006\n",
      "Epoch 144/200\n",
      " - 2s - loss: 0.1956 - acc: 0.9412 - val_loss: 0.4639 - val_acc: 0.8955\n",
      "Epoch 145/200\n",
      " - 2s - loss: 0.1951 - acc: 0.9422 - val_loss: 0.4507 - val_acc: 0.8995\n",
      "Epoch 146/200\n",
      " - 2s - loss: 0.1952 - acc: 0.9415 - val_loss: 0.4636 - val_acc: 0.8984\n",
      "Epoch 147/200\n",
      " - 2s - loss: 0.1953 - acc: 0.9416 - val_loss: 0.4665 - val_acc: 0.8971\n",
      "Epoch 148/200\n",
      " - 2s - loss: 0.1951 - acc: 0.9416 - val_loss: 0.4459 - val_acc: 0.9033\n",
      "Epoch 149/200\n",
      " - 2s - loss: 0.1919 - acc: 0.9430 - val_loss: 0.4506 - val_acc: 0.9017\n",
      "Epoch 150/200\n",
      " - 2s - loss: 0.1920 - acc: 0.9435 - val_loss: 0.4643 - val_acc: 0.8962\n",
      "Epoch 151/200\n",
      " - 2s - loss: 0.1916 - acc: 0.9431 - val_loss: 0.4450 - val_acc: 0.9019\n",
      "Epoch 152/200\n",
      " - 2s - loss: 0.1930 - acc: 0.9419 - val_loss: 0.4541 - val_acc: 0.9019\n",
      "Epoch 153/200\n",
      " - 2s - loss: 0.1896 - acc: 0.9432 - val_loss: 0.4613 - val_acc: 0.8973\n",
      "Epoch 154/200\n",
      " - 2s - loss: 0.1899 - acc: 0.9441 - val_loss: 0.4589 - val_acc: 0.8997\n",
      "Epoch 155/200\n",
      " - 2s - loss: 0.1896 - acc: 0.9436 - val_loss: 0.4709 - val_acc: 0.8974\n",
      "Epoch 156/200\n",
      " - 2s - loss: 0.1904 - acc: 0.9432 - val_loss: 0.4978 - val_acc: 0.8870\n",
      "Epoch 157/200\n",
      " - 2s - loss: 0.1883 - acc: 0.9433 - val_loss: 0.4558 - val_acc: 0.9005\n",
      "Epoch 158/200\n",
      " - 2s - loss: 0.1878 - acc: 0.9427 - val_loss: 0.4614 - val_acc: 0.9008\n",
      "Epoch 159/200\n",
      " - 2s - loss: 0.1879 - acc: 0.9438 - val_loss: 0.4557 - val_acc: 0.9005\n",
      "Epoch 160/200\n",
      " - 2s - loss: 0.1873 - acc: 0.9432 - val_loss: 0.4627 - val_acc: 0.8986\n",
      "Epoch 161/200\n",
      " - 2s - loss: 0.1851 - acc: 0.9448 - val_loss: 0.4523 - val_acc: 0.9041\n",
      "Epoch 162/200\n",
      " - 2s - loss: 0.1825 - acc: 0.9449 - val_loss: 0.4798 - val_acc: 0.8962\n",
      "Epoch 163/200\n",
      " - 2s - loss: 0.1890 - acc: 0.9425 - val_loss: 0.4790 - val_acc: 0.8960\n",
      "Epoch 164/200\n",
      " - 2s - loss: 0.1858 - acc: 0.9445 - val_loss: 0.4587 - val_acc: 0.9016\n",
      "Epoch 165/200\n",
      " - 1s - loss: 0.1853 - acc: 0.9449 - val_loss: 0.4848 - val_acc: 0.8963\n",
      "Epoch 166/200\n",
      " - 1s - loss: 0.1858 - acc: 0.9441 - val_loss: 0.4754 - val_acc: 0.8971\n",
      "Epoch 167/200\n",
      " - 2s - loss: 0.1831 - acc: 0.9445 - val_loss: 0.4594 - val_acc: 0.8994\n",
      "Epoch 168/200\n",
      " - 2s - loss: 0.1853 - acc: 0.9441 - val_loss: 0.4657 - val_acc: 0.8991\n",
      "Epoch 169/200\n",
      " - 1s - loss: 0.1846 - acc: 0.9450 - val_loss: 0.4631 - val_acc: 0.9000\n",
      "Epoch 170/200\n",
      " - 2s - loss: 0.1814 - acc: 0.9460 - val_loss: 0.4761 - val_acc: 0.8975\n",
      "Epoch 171/200\n",
      " - 1s - loss: 0.1796 - acc: 0.9471 - val_loss: 0.4755 - val_acc: 0.8982\n",
      "Epoch 172/200\n",
      " - 2s - loss: 0.1845 - acc: 0.9438 - val_loss: 0.4802 - val_acc: 0.8967\n",
      "Epoch 173/200\n",
      " - 2s - loss: 0.1802 - acc: 0.9458 - val_loss: 0.4665 - val_acc: 0.9001\n",
      "Epoch 174/200\n",
      " - 2s - loss: 0.1801 - acc: 0.9463 - val_loss: 0.4706 - val_acc: 0.8996\n",
      "Epoch 175/200\n",
      " - 2s - loss: 0.1788 - acc: 0.9460 - val_loss: 0.4706 - val_acc: 0.8975\n",
      "Epoch 176/200\n",
      " - 2s - loss: 0.1840 - acc: 0.9446 - val_loss: 0.4589 - val_acc: 0.9031\n",
      "Epoch 177/200\n",
      " - 2s - loss: 0.1796 - acc: 0.9461 - val_loss: 0.4791 - val_acc: 0.8968\n",
      "Epoch 178/200\n",
      " - 2s - loss: 0.1806 - acc: 0.9462 - val_loss: 0.4788 - val_acc: 0.8989\n",
      "Epoch 179/200\n",
      " - 2s - loss: 0.1802 - acc: 0.9456 - val_loss: 0.4740 - val_acc: 0.8994\n",
      "Epoch 180/200\n",
      " - 2s - loss: 0.1782 - acc: 0.9468 - val_loss: 0.4791 - val_acc: 0.8975\n",
      "Epoch 181/200\n",
      " - 2s - loss: 0.1796 - acc: 0.9457 - val_loss: 0.4727 - val_acc: 0.9007\n",
      "Epoch 182/200\n",
      " - 2s - loss: 0.1765 - acc: 0.9475 - val_loss: 0.4963 - val_acc: 0.8948\n",
      "Epoch 183/200\n",
      " - 1s - loss: 0.1798 - acc: 0.9454 - val_loss: 0.4668 - val_acc: 0.9013\n",
      "Epoch 184/200\n",
      " - 1s - loss: 0.1805 - acc: 0.9463 - val_loss: 0.4683 - val_acc: 0.9019\n",
      "Epoch 185/200\n",
      " - 1s - loss: 0.1745 - acc: 0.9478 - val_loss: 0.4828 - val_acc: 0.8974\n",
      "Epoch 186/200\n",
      " - 2s - loss: 0.1754 - acc: 0.9479 - val_loss: 0.4680 - val_acc: 0.8993\n",
      "Epoch 187/200\n",
      " - 1s - loss: 0.1760 - acc: 0.9470 - val_loss: 0.4770 - val_acc: 0.8969\n",
      "Epoch 188/200\n",
      " - 2s - loss: 0.1769 - acc: 0.9467 - val_loss: 0.4882 - val_acc: 0.8953\n",
      "Epoch 189/200\n",
      " - 1s - loss: 0.1733 - acc: 0.9487 - val_loss: 0.4651 - val_acc: 0.9026\n",
      "Epoch 190/200\n",
      " - 1s - loss: 0.1753 - acc: 0.9480 - val_loss: 0.4829 - val_acc: 0.8969\n",
      "Epoch 191/200\n",
      " - 1s - loss: 0.1756 - acc: 0.9484 - val_loss: 0.4839 - val_acc: 0.8955\n",
      "Epoch 192/200\n",
      " - 2s - loss: 0.1722 - acc: 0.9488 - val_loss: 0.4737 - val_acc: 0.9015\n",
      "Epoch 193/200\n",
      " - 2s - loss: 0.1738 - acc: 0.9474 - val_loss: 0.4825 - val_acc: 0.8982\n",
      "Epoch 194/200\n",
      " - 2s - loss: 0.1733 - acc: 0.9482 - val_loss: 0.4764 - val_acc: 0.9001\n",
      "Epoch 195/200\n",
      " - 2s - loss: 0.1714 - acc: 0.9487 - val_loss: 0.4943 - val_acc: 0.8957\n",
      "Epoch 196/200\n",
      " - 2s - loss: 0.1736 - acc: 0.9472 - val_loss: 0.4751 - val_acc: 0.8999\n",
      "Epoch 197/200\n",
      " - 2s - loss: 0.1725 - acc: 0.9477 - val_loss: 0.4721 - val_acc: 0.9016\n",
      "Epoch 198/200\n",
      " - 2s - loss: 0.1716 - acc: 0.9483 - val_loss: 0.4840 - val_acc: 0.8994\n",
      "Epoch 199/200\n",
      " - 2s - loss: 0.1727 - acc: 0.9471 - val_loss: 0.4841 - val_acc: 0.8991\n",
      "Epoch 200/200\n",
      " - 2s - loss: 0.1712 - acc: 0.9488 - val_loss: 0.4795 - val_acc: 0.9007\n"
     ]
    }
   ],
   "source": [
    "model2 = Sequential()\n",
    "model2.add(Dense(64, activation='relu', input_shape=input_shape))\n",
    "model2.add(Dense(5, activation='softmax'))\n",
    "\n",
    "optimizer = Adam()\n",
    "model2.compile(loss='categorical_crossentropy',\n",
    "                  optimizer = optimizer,\n",
    "                  metrics=['accuracy'])\n",
    "\n",
    "history = model2.fit(x_train, y_train,\n",
    "                    batch_size=batch_size,\n",
    "                    epochs=200,\n",
    "                    verbose=2,\n",
    "                    validation_data=(x_test, y_test))"
   ]
  },
  {
   "cell_type": "code",
   "execution_count": 62,
   "metadata": {},
   "outputs": [
    {
     "data": {
      "image/png": "[encoded data removed]",
      "text/plain": [
       "<matplotlib.figure.Figure at 0x14fc406d8>"
      ]
     },
     "metadata": {},
     "output_type": "display_data"
    }
   ],
   "source": [
    "a = plot_history(history, 'History exercise 1')"
   ]
  },
  {
   "cell_type": "markdown",
   "metadata": {},
   "source": [
    "**Question 1**: At which epoch (approximately) does the model start to overfit? Please answer with one full sentence.\n",
    "\n",
    "**Answer**:\n",
    "\n",
    "**Question 2**: Explain the qualitative difference between the loss curves and the accuracy curves with respect to signs of overfitting. Please answer with at most 3 full sentences.\n",
    "\n",
    "**Answer**: "
   ]
  },
  {
   "cell_type": "markdown",
   "metadata": {},
   "source": [
    "## Exercise 4: Model performance as a function of number of hidden neurons\n",
    "\n",
    "### Description\n",
    "\n",
    "Investigate how the best validation loss and accuracy depends on the number of hidden neurons in a single layer.\n",
    "\n",
    "1. Fit a reasonable number of models with different hidden layer size (between 10 and 1000 hidden neurons) for a fixed number of epochs well beyond the point of overfitting.\n",
    "2. Collect some statistics by fitting the same models as in 1. for multiple initial conditions. Hints: 1. If you don't reset the random seed, you get different initial conditions each time you create a new model. 2. Let your computer work while you are asleep.\n",
    "3. Plot summary statistics of the final validation loss and accuracy versus the number of hidden neurons. Hint: [boxplots](https://matplotlib.org/examples/pylab_examples/boxplot_demo.html) (also [here](https://matplotlib.org/api/_as_gen/matplotlib.axes.Axes.boxplot.html?highlight=boxplot#matplotlib.axes.Axes.boxplot)) are useful. You may also want to use the matplotlib method set_xticklabels.\n",
    "4. Plot summary statistics of the loss and accuracy for early stopping versus the number of hidden neurons.\n",
    "\n",
    "### Solution"
   ]
  },
  {
   "cell_type": "code",
   "execution_count": null,
   "metadata": {},
   "outputs": [],
   "source": [
    "\"\"\"\n",
    "Parameters\n",
    "\"\"\"\n",
    "hidden_units = [5, 50, 100, 300, 500, 750, 1000]\n",
    "batch_size = 128\n",
    "num_classes = len(subset_of_classes)\n",
    "epochs = 70\n",
    "input_shape = (16*16,)\n",
    "optimizer = Adam()"
   ]
  },
  {
   "cell_type": "code",
   "execution_count": 58,
   "metadata": {},
   "outputs": [
    {
     "name": "stdout",
     "output_type": "stream",
     "text": [
      "For  5  hidden neurons in the model:\n",
      "Test loss: 1.047679099\n",
      "Test accuracy: 0.63349896218 \n",
      "\n",
      "For  50  hidden neurons in the model:\n",
      "Test loss: 0.462429891394\n",
      "Test accuracy: 0.884395245033 \n",
      "\n",
      "For  100  hidden neurons in the model:\n",
      "Test loss: 0.428409113059\n",
      "Test accuracy: 0.898043902143 \n",
      "\n",
      "For  300  hidden neurons in the model:\n",
      "Test loss: 0.431052377295\n",
      "Test accuracy: 0.904710988124 \n",
      "\n",
      "For  500  hidden neurons in the model:\n",
      "Test loss: 0.471142413157\n",
      "Test accuracy: 0.900119504383 \n",
      "\n",
      "For  750  hidden neurons in the model:\n",
      "Test loss: 0.488392465982\n",
      "Test accuracy: 0.90257248881 \n",
      "\n",
      "For  1000  hidden neurons in the model:\n",
      "Test loss: 0.4991705278\n",
      "Test accuracy: 0.901000062908 \n",
      "\n"
     ]
    }
   ],
   "source": [
    "test_losses= []\n",
    "test_accs= []\n",
    "\n",
    "for nb_neurons in hidden_units:\n",
    "    models = Sequential()\n",
    "    models.add(Dense(nb_neurons, activation='relu', input_shape=input_shape))\n",
    "    models.add(Dense(num_classes, activation='softmax'))\n",
    "    \n",
    "    models.compile(loss='categorical_crossentropy',\n",
    "                   optimizer=optimizer,\n",
    "                   metrics=['accuracy']\n",
    "                  )\n",
    "\n",
    "    models.fit(x_train, y_train,\n",
    "               batch_size=batch_size,\n",
    "               epochs=epochs,\n",
    "               verbose=0,\n",
    "               validation_data=(x_test, y_test)\n",
    "              )\n",
    "    score = models.evaluate(x_test, y_test, verbose=0)\n",
    "    test_losses.append(score[0])\n",
    "    test_accs.append(score[1])\n",
    "    print('For ', nb_neurons, ' hidden neurons in the model:')\n",
    "    print('Test loss:', score[0])\n",
    "    print('Test accuracy:', score[1], '\\n')"
   ]
  },
  {
   "cell_type": "code",
   "execution_count": 59,
   "metadata": {},
   "outputs": [
    {
     "data": {
      "image/png": "[encoded data removed]",
      "text/plain": [
       "<matplotlib.figure.Figure at 0x14da29a90>"
      ]
     },
     "metadata": {},
     "output_type": "display_data"
    }
   ],
   "source": [
    "plt.subplots_adjust(hspace=0.4)\n",
    "plt.subplot(2,1,1)\n",
    "plt.plot(hidden, test_losses)\n",
    "plt.title('On test set')\n",
    "plt.ylabel('Cross-entropy loss')\n",
    "plt.xlabel('number of hidden neurons')\n",
    "\n",
    "plt.subplot(2,1,2)\n",
    "plt.plot(hidden, test_accs)\n",
    "plt.title('On test set')\n",
    "plt.ylabel('Accuracy')\n",
    "plt.xlabel('number of hidden neurons')\n",
    "plt.show()"
   ]
  },
  {
   "cell_type": "markdown",
   "metadata": {},
   "source": [
    "## Exercise 5: Comparison to deep models\n",
    "\n",
    "### Description\n",
    "\n",
    "Instead of choosing one hidden layer (with many neurons) you experiment here with multiple hidden layers (each with not so many neurons).\n",
    "\n",
    "1. Fit models with 2, 3 and 4 hidden layers with approximately the same number of parameters as a network with one hidden layer of 100 neurons. Hint: Calculate the number of parameters in a network with input dimensionality N_in, K hidden layers with N_h units, one output layer with N_out dimensions and solve for N_h. Confirm you result with the keras method model.summary().\n",
    "2. Run each model multiple times with different initial conditions and plot summary statistics of the best validation loss and accuracy versus the number of hidden layers.\n",
    "\n",
    "### Solution"
   ]
  },
  {
   "cell_type": "markdown",
   "metadata": {},
   "source": [
    "**Question 1**\n",
    "\n",
    "Let a network with $N_{in}$ inputs, $K$ hidden layers with $N_h$ units, and one output layer with $N_{out}$ dimensions. Let's calculate the number of parameters $N_p$. First consider $K = 1$. Then\n",
    "\n",
    "$N_p = (N_{in} + 1)*N_h + (N_h + 1)*N_{out} = N_h * (N_{in} + N_{out} + 1) + N_{out}$\n",
    "\n",
    "Each time another hidden layer with $N_h$ units is added, $N_h * (N_h + 1)$ parameters additional parameters appear.\n",
    "\n",
    "So for any $K \\geq 1$,\n",
    "\n",
    "$N_p = N_h * (N_{in} + N_{out} + 1) + N_{out} + (K - 1) * N_h * (N_h + 1)$\n",
    "\n",
    "$N_p = (K - 1) * N_h^{2} + (N_{in} + N_{out} + K) * N_h + N_{out}$\n",
    "\n",
    "We get a quadratic equation that can be solved."
   ]
  },
  {
   "cell_type": "code",
   "execution_count": 55,
   "metadata": {},
   "outputs": [
    {
     "name": "stdout",
     "output_type": "stream",
     "text": [
      "There are 26205 parameters in a network with one hidden layer of 100 neurons.\n"
     ]
    }
   ],
   "source": [
    "N_in = 16*16\n",
    "K = 1\n",
    "N_h = 100\n",
    "N_out = 5\n",
    "\n",
    "N_p = (K - 1) * N_h * N_h + (N_in + N_out + K) * N_h + N_out\n",
    "\n",
    "print('There are {} parameters in a network with one hidden layer of 100 neurons.'.format(N_p))"
   ]
  },
  {
   "cell_type": "code",
   "execution_count": 56,
   "metadata": {},
   "outputs": [
    {
     "name": "stdout",
     "output_type": "stream",
     "text": [
      "The numbers of hidden units that approximate the best the number of parameters are 77, 66 and 59 for respectively 2, 3 and 4 hidden layers.\n"
     ]
    }
   ],
   "source": [
    "K_list = [2, 3, 4]\n",
    "N_h_list = []\n",
    "\n",
    "for K in K_list:\n",
    "    a = K - 1\n",
    "    b = N_in + N_out + K\n",
    "    c = N_out - N_p\n",
    "    N_h_list.append(((-b + np.sqrt(b**2 - 4 * a * c)) / (2 * a)).astype(int))\n",
    "    \n",
    "N_h_2 = N_h_list[0]\n",
    "N_h_3 = N_h_list[1]\n",
    "N_h_4 = N_h_list[2]\n",
    "\n",
    "print('The numbers of hidden units that approximate the best the number of parameters are '\n",
    "      '{0}, {1} and {2} for respectively 2, 3 and 4 hidden layers.'.format(N_h_2, N_h_3, N_h_4))"
   ]
  },
  {
   "cell_type": "code",
   "execution_count": 57,
   "metadata": {},
   "outputs": [
    {
     "name": "stdout",
     "output_type": "stream",
     "text": [
      "_________________________________________________________________\n",
      "Layer (type)                 Output Shape              Param #   \n",
      "=================================================================\n",
      "dense_2 (Dense)              (None, 100)               25700     \n",
      "_________________________________________________________________\n",
      "dense_3 (Dense)              (None, 5)                 505       \n",
      "=================================================================\n",
      "Total params: 26,205\n",
      "Trainable params: 26,205\n",
      "Non-trainable params: 0\n",
      "_________________________________________________________________\n",
      "_________________________________________________________________\n",
      "Layer (type)                 Output Shape              Param #   \n",
      "=================================================================\n",
      "dense_4 (Dense)              (None, 77)                19789     \n",
      "_________________________________________________________________\n",
      "dense_5 (Dense)              (None, 77)                6006      \n",
      "_________________________________________________________________\n",
      "dense_6 (Dense)              (None, 5)                 390       \n",
      "=================================================================\n",
      "Total params: 26,185\n",
      "Trainable params: 26,185\n",
      "Non-trainable params: 0\n",
      "_________________________________________________________________\n",
      "_________________________________________________________________\n",
      "Layer (type)                 Output Shape              Param #   \n",
      "=================================================================\n",
      "dense_7 (Dense)              (None, 66)                16962     \n",
      "_________________________________________________________________\n",
      "dense_8 (Dense)              (None, 66)                4422      \n",
      "_________________________________________________________________\n",
      "dense_9 (Dense)              (None, 66)                4422      \n",
      "_________________________________________________________________\n",
      "dense_10 (Dense)             (None, 5)                 335       \n",
      "=================================================================\n",
      "Total params: 26,141\n",
      "Trainable params: 26,141\n",
      "Non-trainable params: 0\n",
      "_________________________________________________________________\n",
      "_________________________________________________________________\n",
      "Layer (type)                 Output Shape              Param #   \n",
      "=================================================================\n",
      "dense_11 (Dense)             (None, 59)                15163     \n",
      "_________________________________________________________________\n",
      "dense_12 (Dense)             (None, 59)                3540      \n",
      "_________________________________________________________________\n",
      "dense_13 (Dense)             (None, 59)                3540      \n",
      "_________________________________________________________________\n",
      "dense_14 (Dense)             (None, 59)                3540      \n",
      "_________________________________________________________________\n",
      "dense_15 (Dense)             (None, 5)                 300       \n",
      "=================================================================\n",
      "Total params: 26,083\n",
      "Trainable params: 26,083\n",
      "Non-trainable params: 0\n",
      "_________________________________________________________________\n"
     ]
    }
   ],
   "source": [
    "\"\"\"\n",
    "Model with 1 hidden layer\n",
    "\"\"\"\n",
    "\n",
    "model1 = Sequential()\n",
    "\n",
    "model1.add(Dense(N_h,\n",
    "                 activation='relu',\n",
    "                 input_shape=input_shape\n",
    "                )\n",
    "          )\n",
    "\n",
    "model1.add(Dense(N_out,\n",
    "                 activation='softmax'\n",
    "                )\n",
    "          )\n",
    "\n",
    "\"\"\"\n",
    "Model with 2 hidden layers\n",
    "\"\"\"\n",
    "\n",
    "model2 = Sequential()\n",
    "\n",
    "model2.add(Dense(N_h_2,\n",
    "                 activation='relu',\n",
    "                 input_shape=input_shape\n",
    "                )\n",
    "          )\n",
    "\n",
    "model2.add(Dense(N_h_2,\n",
    "                 activation='relu',\n",
    "                 input_shape=input_shape\n",
    "                )\n",
    "          )\n",
    "\n",
    "model2.add(Dense(N_out,\n",
    "                 activation='softmax'\n",
    "                )\n",
    "          )\n",
    "\n",
    "\"\"\"\n",
    "Model with 3 hidden layers\n",
    "\"\"\"\n",
    "\n",
    "model3 = Sequential()\n",
    "\n",
    "model3.add(Dense(N_h_3,\n",
    "                 activation='relu',\n",
    "                 input_shape=input_shape\n",
    "                )\n",
    "          )\n",
    "\n",
    "model3.add(Dense(N_h_3,\n",
    "                 activation='relu',\n",
    "                 input_shape=input_shape\n",
    "                )\n",
    "          )\n",
    "\n",
    "model3.add(Dense(N_h_3,\n",
    "                 activation='relu',\n",
    "                 input_shape=input_shape\n",
    "                )\n",
    "          )\n",
    "\n",
    "model3.add(Dense(N_out,\n",
    "                 activation='softmax'\n",
    "                )\n",
    "          )\n",
    "\n",
    "\"\"\"\n",
    "Model with 4 hidden layers\n",
    "\"\"\"\n",
    "\n",
    "model4 = Sequential()\n",
    "\n",
    "model4.add(Dense(N_h_4,\n",
    "                 activation='relu',\n",
    "                 input_shape=input_shape\n",
    "                )\n",
    "          )\n",
    "\n",
    "model4.add(Dense(N_h_4,\n",
    "                 activation='relu',\n",
    "                 input_shape=input_shape\n",
    "                )\n",
    "          )\n",
    "\n",
    "model4.add(Dense(N_h_4,\n",
    "                 activation='relu',\n",
    "                 input_shape=input_shape\n",
    "                )\n",
    "          )\n",
    "\n",
    "model4.add(Dense(N_h_4,\n",
    "                 activation='relu',\n",
    "                 input_shape=input_shape\n",
    "                )\n",
    "          )\n",
    "\n",
    "model4.add(Dense(N_out,\n",
    "                 activation='softmax'\n",
    "                )\n",
    "          )\n",
    "\n",
    "models = [model1, model2, model3, model4]\n",
    "\n",
    "model1.summary()\n",
    "\n",
    "model2.summary()\n",
    "\n",
    "model3.summary()\n",
    "\n",
    "model4.summary()"
   ]
  },
  {
   "cell_type": "markdown",
   "metadata": {},
   "source": [
    "**Question 2**"
   ]
  },
  {
   "cell_type": "code",
   "execution_count": 58,
   "metadata": {},
   "outputs": [],
   "source": [
    "\"\"\"\n",
    "Hyper-parameters\n",
    "\"\"\"\n",
    "\n",
    "batch_size = 128\n",
    "num_classes = len(subset_of_classes)\n",
    "epochs = 70\n",
    "input_shape = (16*16,)\n",
    "optimizer = Adam()\n",
    "num_runs = 5 #Environ 15 mins pour 1, faudra peut-être faire avec 3 et prendre le max comme demandé"
   ]
  },
  {
   "cell_type": "code",
   "execution_count": 65,
   "metadata": {},
   "outputs": [],
   "source": [
    "loss_scores = []\n",
    "accuracy_scores = []\n",
    "\n",
    "for i, model in enumerate(models):\n",
    "    loss_scores.append([])\n",
    "    accuracy_scores.append([])\n",
    "    for j in range(num_runs):\n",
    "        model.compile(loss='categorical_crossentropy',\n",
    "                       optimizer=optimizer,\n",
    "                       metrics=['accuracy']\n",
    "                      )\n",
    "\n",
    "        history = model.fit(x_train, y_train,\n",
    "                            batch_size=batch_size,\n",
    "                            epochs=epochs,\n",
    "                            verbose=0,\n",
    "                            validation_data=(x_test, y_test)\n",
    "                           )\n",
    "        \n",
    "        \"\"\"score = model.evaluate(x_test, y_test, verbose=0)\n",
    "        loss_score = score[0]\n",
    "        accuracy_score = score[1]\"\"\"\n",
    "        \n",
    "        loss_scores[i].append(history.history['val_loss'])\n",
    "        accuracy_scores[i].append(history.history['val_acc'])"
   ]
  },
  {
   "cell_type": "code",
   "execution_count": 67,
   "metadata": {},
   "outputs": [],
   "source": [
    "\"\"\"\n",
    "Saving the lists. /!\\ Do not run it unless you want to override them.\n",
    "\"\"\"\n",
    "save_obj(loss_scores, 'ex5_losses')\n",
    "save_obj(accuracy_scores, 'ex5_accs')"
   ]
  },
  {
   "cell_type": "code",
   "execution_count": 68,
   "metadata": {},
   "outputs": [],
   "source": [
    "\"\"\"\n",
    "Loading the lists.\n",
    "\"\"\"\n",
    "loss_scores = load_obj('ex5_losses')\n",
    "accuracy_scores = load_obj('ex5_accs')"
   ]
  },
  {
   "cell_type": "code",
   "execution_count": 69,
   "metadata": {},
   "outputs": [],
   "source": [
    "loss_scores = np.array(loss_scores)\n",
    "accuracy_scores = np.array(accuracy_scores)\n",
    "\n",
    "loss_scores = np.max(loss_scores, axis=(1, 2))\n",
    "accuracy_scores = np.max(accuracy_scores, axis=(1, 2))"
   ]
  },
  {
   "cell_type": "code",
   "execution_count": 71,
   "metadata": {},
   "outputs": [
    {
     "data": {
      "image/png": "[encoded data removed]",
      "text/plain": [
       "<Figure size 1080x360 with 2 Axes>"
      ]
     },
     "metadata": {},
     "output_type": "display_data"
    }
   ],
   "source": [
    "fig, ax = plt.subplots(1, 2, figsize=(15,5))\n",
    "\n",
    "ax[0].plot(np.arange(1, 5), loss_scores)\n",
    "ax[0].set_title('Cross-entropy as a function of the number of hidden layers')\n",
    "ax[0].set_ylabel('Cross-entropy loss')\n",
    "ax[0].set_xlabel('Number K of hidden layers')\n",
    "\n",
    "ax[1].plot(np.arange(1, 5), accuracy_scores)\n",
    "ax[1].set_title('Accuracy as a function of the number of hidden layers')\n",
    "ax[1].set_ylabel('Accuracy')\n",
    "ax[1].set_xlabel('Number K of hidden layers')\n",
    "\n",
    "plt.tight_layout()\n",
    "\n",
    "plt.show()"
   ]
  },
  {
   "cell_type": "code",
   "execution_count": null,
   "metadata": {},
   "outputs": [],
   "source": [
    "import seaborn as sns\n",
    "\n",
    "#TODO : boxplot"
   ]
  },
  {
   "cell_type": "markdown",
   "metadata": {},
   "source": [
    "## Exercise 6: Tricks (regularization, batch normalization, dropout)\n",
    "\n",
    "### Description\n",
    "\n",
    "Overfitting can also be counteracted with regularization and dropout. Batch normalization is supposed to mainly decrease convergence time.\n",
    "\n",
    "1. Try to improve the best validation scores of the model with 1 layer and 100 hidden neurons and the model with 4 hidden layers. Experiment with batch_normalization layers, dropout layers and l1- and l2-regularization on weights (kernels) and biases.\n",
    "2. After you have found good settings, plot for both models the learning curves of the naive model you fitted in the previous exercises together with the learning curves of the current version.\n",
    "3. For proper comparison, plot also the learning curves of the two current models in a third figure.\n",
    "\n",
    "### Solution"
   ]
  },
  {
   "cell_type": "code",
   "execution_count": null,
   "metadata": {
    "collapsed": true
   },
   "outputs": [],
   "source": []
  },
  {
   "cell_type": "markdown",
   "metadata": {},
   "source": [
    "## Exercise 7: Convolutional networks\n",
    "\n",
    "### Description\n",
    "\n",
    "Convolutional neural networks have an inductive bias that is well adapted to image classification.\n",
    "\n",
    "1. Design a convolutional neural network, play with the parameters and fit it. Hint: You may get valuable inspiration from the keras [examples](https://github.com/keras-team/keras/tree/master/examples), e.g. [mnist_cnn](https://github.com/keras-team/keras/blob/master/examples/mnist_cnn.py).\n",
    "2. Plot the learning curves of the convolutional neural network together with the so far best performing model.\n",
    "\n",
    "## Solution"
   ]
  },
  {
   "cell_type": "code",
   "execution_count": 44,
   "metadata": {},
   "outputs": [],
   "source": [
    "\"\"\"\n",
    "Parameters\n",
    "\"\"\"\n",
    "\n",
    "batch_size = 128\n",
    "input_shape = (16, 16, 1)\n",
    "num_classes = len(subset_of_classes)\n",
    "num_filters1 = 32\n",
    "num_filters2 = 64\n",
    "kernel_size = (5, 5)\n",
    "pool_size = (2, 2)\n",
    "optimizer = Adam()\n",
    "epochs = 20"
   ]
  },
  {
   "cell_type": "code",
   "execution_count": 45,
   "metadata": {},
   "outputs": [
    {
     "name": "stdout",
     "output_type": "stream",
     "text": [
      "_________________________________________________________________\n",
      "Layer (type)                 Output Shape              Param #   \n",
      "=================================================================\n",
      "conv2d_8 (Conv2D)            (None, 16, 16, 32)        832       \n",
      "_________________________________________________________________\n",
      "max_pooling2d_3 (MaxPooling2 (None, 8, 8, 32)          0         \n",
      "_________________________________________________________________\n",
      "conv2d_9 (Conv2D)            (None, 8, 8, 64)          51264     \n",
      "_________________________________________________________________\n",
      "max_pooling2d_4 (MaxPooling2 (None, 4, 4, 64)          0         \n",
      "_________________________________________________________________\n",
      "flatten_2 (Flatten)          (None, 1024)              0         \n",
      "_________________________________________________________________\n",
      "dense_8 (Dense)              (None, 1024)              1049600   \n",
      "_________________________________________________________________\n",
      "dropout_2 (Dropout)          (None, 1024)              0         \n",
      "_________________________________________________________________\n",
      "dense_9 (Dense)              (None, 5)                 5125      \n",
      "=================================================================\n",
      "Total params: 1,106,821\n",
      "Trainable params: 1,106,821\n",
      "Non-trainable params: 0\n",
      "_________________________________________________________________\n"
     ]
    }
   ],
   "source": [
    "\"\"\"\n",
    "Basic model architecture with 2 convolutions\n",
    "\"\"\"\n",
    "    \n",
    "model = Sequential()\n",
    "\n",
    "model.add(Conv2D(input_shape=input_shape,\n",
    "                 filters=num_filters1,\n",
    "                 kernel_size=kernel_size,\n",
    "                 padding='same',\n",
    "                 activation='relu'))\n",
    "\n",
    "model.add(MaxPooling2D(pool_size=pool_size, padding='same'))\n",
    "\n",
    "model.add(Conv2D(filters=num_filters2,\n",
    "                 kernel_size=kernel_size,\n",
    "                 padding='same',\n",
    "                 activation='relu')\n",
    "         )\n",
    "\n",
    "model.add(MaxPooling2D(pool_size=pool_size, padding='same'))\n",
    "\n",
    "model.add(Flatten())\n",
    "    \n",
    "model.add(Dense(1024, activation='relu'))\n",
    "              \n",
    "model.add(Dropout(0.4))\n",
    "    \n",
    "model.add(Dense(num_classes, activation='softmax'))\n",
    "\n",
    "model.summary()"
   ]
  },
  {
   "cell_type": "code",
   "execution_count": 46,
   "metadata": {
    "scrolled": true
   },
   "outputs": [
    {
     "name": "stdout",
     "output_type": "stream",
     "text": [
      "Train on 43734 samples, validate on 15899 samples\n",
      "Epoch 1/20\n",
      "43734/43734 [==============================] - 42s 962us/step - loss: 0.6785 - acc: 0.7587 - val_loss: 0.3323 - val_acc: 0.9033\n",
      "Epoch 2/20\n",
      "43734/43734 [==============================] - 43s 977us/step - loss: 0.2857 - acc: 0.9133 - val_loss: 0.2518 - val_acc: 0.9265\n",
      "Epoch 3/20\n",
      "43734/43734 [==============================] - 42s 966us/step - loss: 0.2274 - acc: 0.9308 - val_loss: 0.2383 - val_acc: 0.9290\n",
      "Epoch 4/20\n",
      "43734/43734 [==============================] - 43s 977us/step - loss: 0.1942 - acc: 0.9391 - val_loss: 0.2235 - val_acc: 0.9351\n",
      "Epoch 5/20\n",
      "43734/43734 [==============================] - 40s 912us/step - loss: 0.1746 - acc: 0.9467 - val_loss: 0.2126 - val_acc: 0.9368\n",
      "Epoch 6/20\n",
      "43734/43734 [==============================] - 43s 981us/step - loss: 0.1573 - acc: 0.9515 - val_loss: 0.1969 - val_acc: 0.9428\n",
      "Epoch 7/20\n",
      "43734/43734 [==============================] - 42s 949us/step - loss: 0.1438 - acc: 0.9558 - val_loss: 0.1956 - val_acc: 0.9441\n",
      "Epoch 8/20\n",
      "43734/43734 [==============================] - 43s 982us/step - loss: 0.1299 - acc: 0.9602 - val_loss: 0.2068 - val_acc: 0.9426\n",
      "Epoch 9/20\n",
      "43734/43734 [==============================] - 44s 1ms/step - loss: 0.1176 - acc: 0.9634 - val_loss: 0.1997 - val_acc: 0.9426\n",
      "Epoch 10/20\n",
      "43734/43734 [==============================] - 51s 1ms/step - loss: 0.1037 - acc: 0.9682 - val_loss: 0.1957 - val_acc: 0.9455\n",
      "Epoch 11/20\n",
      "43734/43734 [==============================] - 42s 966us/step - loss: 0.0976 - acc: 0.9698 - val_loss: 0.2136 - val_acc: 0.9431\n",
      "Epoch 12/20\n",
      "43734/43734 [==============================] - 44s 1ms/step - loss: 0.0833 - acc: 0.9741 - val_loss: 0.2082 - val_acc: 0.9455\n",
      "Epoch 13/20\n",
      "43734/43734 [==============================] - 45s 1ms/step - loss: 0.0769 - acc: 0.9762 - val_loss: 0.2251 - val_acc: 0.9424\n",
      "Epoch 14/20\n",
      "43734/43734 [==============================] - 45s 1ms/step - loss: 0.0701 - acc: 0.9781 - val_loss: 0.2128 - val_acc: 0.9453\n",
      "Epoch 15/20\n",
      "43734/43734 [==============================] - 44s 995us/step - loss: 0.0634 - acc: 0.9802 - val_loss: 0.2273 - val_acc: 0.9420\n",
      "Epoch 16/20\n",
      "43734/43734 [==============================] - 45s 1ms/step - loss: 0.0592 - acc: 0.9808 - val_loss: 0.2348 - val_acc: 0.9413\n",
      "Epoch 17/20\n",
      "43734/43734 [==============================] - 45s 1ms/step - loss: 0.0518 - acc: 0.9842 - val_loss: 0.2280 - val_acc: 0.9472\n",
      "Epoch 18/20\n",
      "43734/43734 [==============================] - 47s 1ms/step - loss: 0.0480 - acc: 0.9849 - val_loss: 0.2438 - val_acc: 0.9447\n",
      "Epoch 19/20\n",
      "43734/43734 [==============================] - 44s 1ms/step - loss: 0.0417 - acc: 0.9869 - val_loss: 0.2470 - val_acc: 0.9440\n",
      "Epoch 20/20\n",
      "43734/43734 [==============================] - 45s 1ms/step - loss: 0.0425 - acc: 0.9865 - val_loss: 0.2729 - val_acc: 0.9420\n"
     ]
    },
    {
     "data": {
      "text/plain": [
       "<keras.callbacks.History at 0x7fce41166630>"
      ]
     },
     "execution_count": 46,
     "metadata": {},
     "output_type": "execute_result"
    }
   ],
   "source": [
    "model.compile(loss='categorical_crossentropy',\n",
    "              optimizer=optimizer,\n",
    "              metrics=['accuracy']\n",
    "             )\n",
    "\n",
    "num_train_images = x_train.shape[0]\n",
    "x_train_reshaped = x_train.reshape(num_train_images, 16, 16, 1)\n",
    "y_train_reshaped = y_train\n",
    "num_test_images = x_test.shape[0]\n",
    "x_test_reshaped = x_test.reshape(num_test_images, 16, 16, 1)\n",
    "y_test_reshaped = y_test\n",
    "\n",
    "model.fit(x_train_reshaped, y_train_reshaped,\n",
    "          batch_size=batch_size,\n",
    "          epochs=epochs,\n",
    "          verbose=1,\n",
    "          validation_data=(x_test_reshaped, y_test_reshaped)\n",
    "         )"
   ]
  },
  {
   "cell_type": "code",
   "execution_count": 105,
   "metadata": {},
   "outputs": [],
   "source": [
    "save_model(model, 'cnn1')"
   ]
  }
 ],
 "metadata": {
  "anaconda-cloud": {},
  "kernelspec": {
   "display_name": "Python 3",
   "language": "python",
   "name": "python3"
  },
  "language_info": {
   "codemirror_mode": {
    "name": "ipython",
    "version": 3
   },
   "file_extension": ".py",
   "mimetype": "text/x-python",
   "name": "python",
   "nbconvert_exporter": "python",
   "pygments_lexer": "ipython3",
   "version": "3.6.4"
  }
 },
 "nbformat": 4,
 "nbformat_minor": 2
}
